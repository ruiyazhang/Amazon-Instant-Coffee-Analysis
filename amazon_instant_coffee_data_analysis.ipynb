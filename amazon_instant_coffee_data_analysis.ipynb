{
 "cells": [
  {
   "cell_type": "code",
   "execution_count": 1,
   "metadata": {},
   "outputs": [],
   "source": [
    "import pandas as pd\n",
    "import numpy as np\n",
    "import math as ma"
   ]
  },
  {
   "cell_type": "markdown",
   "metadata": {},
   "source": [
    "## Data Cleaning"
   ]
  },
  {
   "cell_type": "code",
   "execution_count": 80,
   "metadata": {},
   "outputs": [],
   "source": [
    "coffee=pd.read_csv('instant_coffee_amazon.csv')"
   ]
  },
  {
   "cell_type": "code",
   "execution_count": 81,
   "metadata": {},
   "outputs": [
    {
     "data": {
      "text/plain": [
       "4572"
      ]
     },
     "execution_count": 81,
     "metadata": {},
     "output_type": "execute_result"
    },
    {
     "data": {
      "text/plain": [
       "23"
      ]
     },
     "execution_count": 81,
     "metadata": {},
     "output_type": "execute_result"
    }
   ],
   "source": [
    "len(coffee)\n",
    "len(coffee.columns)"
   ]
  },
  {
   "cell_type": "code",
   "execution_count": 82,
   "metadata": {},
   "outputs": [
    {
     "data": {
      "text/plain": [
       "['ASIN',\n",
       " 'FBA',\n",
       " 'amazon_choice',\n",
       " 'answered_questions',\n",
       " 'brand',\n",
       " 'price',\n",
       " 'productDescription',\n",
       " 'product_image_urls',\n",
       " 'product_name',\n",
       " 'product_url',\n",
       " 'rating_1_star',\n",
       " 'rating_2_star',\n",
       " 'rating_3_star',\n",
       " 'rating_4_star',\n",
       " 'rating_5_star',\n",
       " 'rating_avg',\n",
       " 'rating_nums',\n",
       " 'shipping_weight',\n",
       " 'subscribe',\n",
       " 'subscribe_price_15per',\n",
       " 'subscribe_price_5per',\n",
       " 'top_sales_rank',\n",
       " 'unit_price']"
      ]
     },
     "execution_count": 82,
     "metadata": {},
     "output_type": "execute_result"
    }
   ],
   "source": [
    "coffee.columns.tolist()"
   ]
  },
  {
   "cell_type": "code",
   "execution_count": 4,
   "metadata": {
    "collapsed": true
   },
   "outputs": [
    {
     "data": {
      "text/html": [
       "<div>\n",
       "<style scoped>\n",
       "    .dataframe tbody tr th:only-of-type {\n",
       "        vertical-align: middle;\n",
       "    }\n",
       "\n",
       "    .dataframe tbody tr th {\n",
       "        vertical-align: top;\n",
       "    }\n",
       "\n",
       "    .dataframe thead th {\n",
       "        text-align: right;\n",
       "    }\n",
       "</style>\n",
       "<table border=\"1\" class=\"dataframe\">\n",
       "  <thead>\n",
       "    <tr style=\"text-align: right;\">\n",
       "      <th></th>\n",
       "      <th>ASIN</th>\n",
       "      <th>FBA</th>\n",
       "      <th>amazon_choice</th>\n",
       "      <th>answered_questions</th>\n",
       "      <th>brand</th>\n",
       "      <th>price</th>\n",
       "      <th>productDescription</th>\n",
       "      <th>product_image_urls</th>\n",
       "      <th>product_name</th>\n",
       "      <th>product_url</th>\n",
       "      <th>...</th>\n",
       "      <th>rating_4_star</th>\n",
       "      <th>rating_5_star</th>\n",
       "      <th>rating_avg</th>\n",
       "      <th>rating_nums</th>\n",
       "      <th>shipping_weight</th>\n",
       "      <th>subscribe</th>\n",
       "      <th>subscribe_price_15per</th>\n",
       "      <th>subscribe_price_5per</th>\n",
       "      <th>top_sales_rank</th>\n",
       "      <th>unit_price</th>\n",
       "    </tr>\n",
       "  </thead>\n",
       "  <tbody>\n",
       "    <tr>\n",
       "      <th>3821</th>\n",
       "      <td>B0001MAF2U</td>\n",
       "      <td>Sold by 2ndTimesaCharm and Fulfilled by Amazon.</td>\n",
       "      <td>False</td>\n",
       "      <td>7.0</td>\n",
       "      <td>Brand: Fireside</td>\n",
       "      <td>$14.49</td>\n",
       "      <td>The buttery, rich, traditional flavor you love...</td>\n",
       "      <td>https://m.media-amazon.com/images/I/71Fl7x5EPA...</td>\n",
       "      <td>Fireside Coffee Instant Cafe Mocha (Butter Rum...</td>\n",
       "      <td>https://www.amazon.com/Fireside-Coffee-Instant...</td>\n",
       "      <td>...</td>\n",
       "      <td>47%</td>\n",
       "      <td>43%</td>\n",
       "      <td>4.2</td>\n",
       "      <td>18.0</td>\n",
       "      <td>9.6 ounces (</td>\n",
       "      <td>NaN</td>\n",
       "      <td>NaN</td>\n",
       "      <td>NaN</td>\n",
       "      <td>1604.0</td>\n",
       "      <td>($14.49 / Item)</td>\n",
       "    </tr>\n",
       "    <tr>\n",
       "      <th>3862</th>\n",
       "      <td>B0001MAF2U</td>\n",
       "      <td>Sold by 2ndTimesaCharm and Fulfilled by Amazon.</td>\n",
       "      <td>False</td>\n",
       "      <td>7.0</td>\n",
       "      <td>Brand: Fireside</td>\n",
       "      <td>$14.49</td>\n",
       "      <td>The buttery, rich, traditional flavor you love...</td>\n",
       "      <td>https://m.media-amazon.com/images/I/71Fl7x5EPA...</td>\n",
       "      <td>Fireside Coffee Instant Cafe Mocha (Butter Rum...</td>\n",
       "      <td>https://www.amazon.com/Fireside-Coffee-Instant...</td>\n",
       "      <td>...</td>\n",
       "      <td>47%</td>\n",
       "      <td>43%</td>\n",
       "      <td>4.2</td>\n",
       "      <td>18.0</td>\n",
       "      <td>9.6 ounces (</td>\n",
       "      <td>NaN</td>\n",
       "      <td>NaN</td>\n",
       "      <td>NaN</td>\n",
       "      <td>1604.0</td>\n",
       "      <td>($14.49 / Item)</td>\n",
       "    </tr>\n",
       "    <tr>\n",
       "      <th>3912</th>\n",
       "      <td>B000H299AI</td>\n",
       "      <td>Sold by OnlinePrimeBrands and Fulfilled by Ama...</td>\n",
       "      <td>False</td>\n",
       "      <td>3.0</td>\n",
       "      <td>Brand: Caffe D'Vita</td>\n",
       "      <td>$36.99</td>\n",
       "      <td>Our Coffee and premium ingredients create a ri...</td>\n",
       "      <td>https://m.media-amazon.com/images/I/61ID8KILXm...</td>\n",
       "      <td>Caffe D’Vita French Vanilla Cappuccino, 6 Pack...</td>\n",
       "      <td>https://www.amazon.com/Caffe-DVita-French-Vani...</td>\n",
       "      <td>...</td>\n",
       "      <td>6%</td>\n",
       "      <td>75%</td>\n",
       "      <td>4.4</td>\n",
       "      <td>70.0</td>\n",
       "      <td>7.9 pounds (</td>\n",
       "      <td>NaN</td>\n",
       "      <td>NaN</td>\n",
       "      <td>NaN</td>\n",
       "      <td>455.0</td>\n",
       "      <td>12 x 9 x 5.5 inches ; 6.9 pounds</td>\n",
       "    </tr>\n",
       "    <tr>\n",
       "      <th>3952</th>\n",
       "      <td>B000H299AI</td>\n",
       "      <td>Sold by OnlinePrimeBrands and Fulfilled by Ama...</td>\n",
       "      <td>False</td>\n",
       "      <td>3.0</td>\n",
       "      <td>Brand: Caffe D'Vita</td>\n",
       "      <td>$36.99</td>\n",
       "      <td>Our Coffee and premium ingredients create a ri...</td>\n",
       "      <td>https://m.media-amazon.com/images/I/61ID8KILXm...</td>\n",
       "      <td>Caffe D’Vita French Vanilla Cappuccino, 6 Pack...</td>\n",
       "      <td>https://www.amazon.com/Caffe-DVita-French-Vani...</td>\n",
       "      <td>...</td>\n",
       "      <td>6%</td>\n",
       "      <td>75%</td>\n",
       "      <td>4.4</td>\n",
       "      <td>70.0</td>\n",
       "      <td>7.9 pounds (</td>\n",
       "      <td>NaN</td>\n",
       "      <td>NaN</td>\n",
       "      <td>NaN</td>\n",
       "      <td>455.0</td>\n",
       "      <td>12 x 9 x 5.5 inches ; 6.9 pounds</td>\n",
       "    </tr>\n",
       "  </tbody>\n",
       "</table>\n",
       "<p>4 rows × 23 columns</p>\n",
       "</div>"
      ],
      "text/plain": [
       "            ASIN                                                FBA  \\\n",
       "3821  B0001MAF2U    Sold by 2ndTimesaCharm and Fulfilled by Amazon.   \n",
       "3862  B0001MAF2U    Sold by 2ndTimesaCharm and Fulfilled by Amazon.   \n",
       "3912  B000H299AI  Sold by OnlinePrimeBrands and Fulfilled by Ama...   \n",
       "3952  B000H299AI  Sold by OnlinePrimeBrands and Fulfilled by Ama...   \n",
       "\n",
       "      amazon_choice  answered_questions                brand   price  \\\n",
       "3821          False                 7.0      Brand: Fireside  $14.49   \n",
       "3862          False                 7.0      Brand: Fireside  $14.49   \n",
       "3912          False                 3.0  Brand: Caffe D'Vita  $36.99   \n",
       "3952          False                 3.0  Brand: Caffe D'Vita  $36.99   \n",
       "\n",
       "                                     productDescription  \\\n",
       "3821  The buttery, rich, traditional flavor you love...   \n",
       "3862  The buttery, rich, traditional flavor you love...   \n",
       "3912  Our Coffee and premium ingredients create a ri...   \n",
       "3952  Our Coffee and premium ingredients create a ri...   \n",
       "\n",
       "                                     product_image_urls  \\\n",
       "3821  https://m.media-amazon.com/images/I/71Fl7x5EPA...   \n",
       "3862  https://m.media-amazon.com/images/I/71Fl7x5EPA...   \n",
       "3912  https://m.media-amazon.com/images/I/61ID8KILXm...   \n",
       "3952  https://m.media-amazon.com/images/I/61ID8KILXm...   \n",
       "\n",
       "                                           product_name  \\\n",
       "3821  Fireside Coffee Instant Cafe Mocha (Butter Rum...   \n",
       "3862  Fireside Coffee Instant Cafe Mocha (Butter Rum...   \n",
       "3912  Caffe D’Vita French Vanilla Cappuccino, 6 Pack...   \n",
       "3952  Caffe D’Vita French Vanilla Cappuccino, 6 Pack...   \n",
       "\n",
       "                                            product_url  ... rating_4_star  \\\n",
       "3821  https://www.amazon.com/Fireside-Coffee-Instant...  ...           47%   \n",
       "3862  https://www.amazon.com/Fireside-Coffee-Instant...  ...           47%   \n",
       "3912  https://www.amazon.com/Caffe-DVita-French-Vani...  ...            6%   \n",
       "3952  https://www.amazon.com/Caffe-DVita-French-Vani...  ...            6%   \n",
       "\n",
       "     rating_5_star rating_avg rating_nums shipping_weight  subscribe  \\\n",
       "3821           43%        4.2        18.0    9.6 ounces (        NaN   \n",
       "3862           43%        4.2        18.0    9.6 ounces (        NaN   \n",
       "3912           75%        4.4        70.0    7.9 pounds (        NaN   \n",
       "3952           75%        4.4        70.0    7.9 pounds (        NaN   \n",
       "\n",
       "      subscribe_price_15per subscribe_price_5per top_sales_rank  \\\n",
       "3821                    NaN                  NaN         1604.0   \n",
       "3862                    NaN                  NaN         1604.0   \n",
       "3912                    NaN                  NaN          455.0   \n",
       "3952                    NaN                  NaN          455.0   \n",
       "\n",
       "                            unit_price  \n",
       "3821                   ($14.49 / Item)  \n",
       "3862                   ($14.49 / Item)  \n",
       "3912  12 x 9 x 5.5 inches ; 6.9 pounds  \n",
       "3952  12 x 9 x 5.5 inches ; 6.9 pounds  \n",
       "\n",
       "[4 rows x 23 columns]"
      ]
     },
     "execution_count": 4,
     "metadata": {},
     "output_type": "execute_result"
    }
   ],
   "source": [
    "dups = pd.concat(g for _, g in coffee.groupby(\"ASIN\") if len(g) > 1)"
   ]
  },
  {
   "cell_type": "code",
   "execution_count": 5,
   "metadata": {
    "scrolled": false
   },
   "outputs": [
    {
     "data": {
      "text/plain": [
       "4369"
      ]
     },
     "execution_count": 5,
     "metadata": {},
     "output_type": "execute_result"
    }
   ],
   "source": [
    "coffee.sort_values(\"ASIN\", inplace = True)\n",
    "coffee.drop_duplicates(subset =\"ASIN\", inplace = True)\n",
    "len(coffee)"
   ]
  },
  {
   "cell_type": "code",
   "execution_count": 6,
   "metadata": {},
   "outputs": [],
   "source": [
    "coffee.set_index('ASIN',inplace=True)"
   ]
  },
  {
   "cell_type": "code",
   "execution_count": 7,
   "metadata": {
    "collapsed": true
   },
   "outputs": [
    {
     "data": {
      "text/html": [
       "<div>\n",
       "<style scoped>\n",
       "    .dataframe tbody tr th:only-of-type {\n",
       "        vertical-align: middle;\n",
       "    }\n",
       "\n",
       "    .dataframe tbody tr th {\n",
       "        vertical-align: top;\n",
       "    }\n",
       "\n",
       "    .dataframe thead th {\n",
       "        text-align: right;\n",
       "    }\n",
       "</style>\n",
       "<table border=\"1\" class=\"dataframe\">\n",
       "  <thead>\n",
       "    <tr style=\"text-align: right;\">\n",
       "      <th></th>\n",
       "      <th>FBA</th>\n",
       "      <th>amazon_choice</th>\n",
       "      <th>answered_questions</th>\n",
       "      <th>brand</th>\n",
       "      <th>price</th>\n",
       "      <th>productDescription</th>\n",
       "      <th>product_image_urls</th>\n",
       "      <th>product_name</th>\n",
       "      <th>product_url</th>\n",
       "      <th>rating_1_star</th>\n",
       "      <th>...</th>\n",
       "      <th>rating_4_star</th>\n",
       "      <th>rating_5_star</th>\n",
       "      <th>rating_avg</th>\n",
       "      <th>rating_nums</th>\n",
       "      <th>shipping_weight</th>\n",
       "      <th>subscribe</th>\n",
       "      <th>subscribe_price_15per</th>\n",
       "      <th>subscribe_price_5per</th>\n",
       "      <th>top_sales_rank</th>\n",
       "      <th>unit_price</th>\n",
       "    </tr>\n",
       "    <tr>\n",
       "      <th>ASIN</th>\n",
       "      <th></th>\n",
       "      <th></th>\n",
       "      <th></th>\n",
       "      <th></th>\n",
       "      <th></th>\n",
       "      <th></th>\n",
       "      <th></th>\n",
       "      <th></th>\n",
       "      <th></th>\n",
       "      <th></th>\n",
       "      <th></th>\n",
       "      <th></th>\n",
       "      <th></th>\n",
       "      <th></th>\n",
       "      <th></th>\n",
       "      <th></th>\n",
       "      <th></th>\n",
       "      <th></th>\n",
       "      <th></th>\n",
       "      <th></th>\n",
       "      <th></th>\n",
       "    </tr>\n",
       "  </thead>\n",
       "  <tbody>\n",
       "    <tr>\n",
       "      <th>B00L3EMQEK</th>\n",
       "      <td>Ships from and sold by iSale-uSave (USA).</td>\n",
       "      <td>False</td>\n",
       "      <td>NaN</td>\n",
       "      <td>Brand: Starbucks</td>\n",
       "      <td>$35.23</td>\n",
       "      <td>CAFFE MOCHA LATTE WITH DUTCHED AND NATURAL COC...</td>\n",
       "      <td>https://m.media-amazon.com/images/I/71njd+a+tQ...</td>\n",
       "      <td>Starbucks VIA Latte - Caffe Mocha (5 Single Se...</td>\n",
       "      <td>https://www.amazon.com/Starbucks-VIA-Latte-Sin...</td>\n",
       "      <td>100%</td>\n",
       "      <td>...</td>\n",
       "      <td>0%</td>\n",
       "      <td>0%</td>\n",
       "      <td>1.0</td>\n",
       "      <td>2.0</td>\n",
       "      <td>2 pounds (</td>\n",
       "      <td>NaN</td>\n",
       "      <td>NaN</td>\n",
       "      <td>NaN</td>\n",
       "      <td>884.0</td>\n",
       "      <td>($8.81 / Item)</td>\n",
       "    </tr>\n",
       "    <tr>\n",
       "      <th>B07M9CW4KY</th>\n",
       "      <td>Ships from and sold by Mighty Depot.</td>\n",
       "      <td>False</td>\n",
       "      <td>NaN</td>\n",
       "      <td>Brand: HICOMI</td>\n",
       "      <td>$29.99</td>\n",
       "      <td>The world renowned White Coffee originated fro...</td>\n",
       "      <td>https://m.media-amazon.com/images/I/41G3rhVnT0...</td>\n",
       "      <td>HICOMI Musang King Durian 4in1 Ipoh Instant Wh...</td>\n",
       "      <td>https://www.amazon.com/HICOMI-Musang-Durian-In...</td>\n",
       "      <td>0%</td>\n",
       "      <td>...</td>\n",
       "      <td>32%</td>\n",
       "      <td>68%</td>\n",
       "      <td>4.7</td>\n",
       "      <td>4.0</td>\n",
       "      <td>1.4 pounds (</td>\n",
       "      <td>NaN</td>\n",
       "      <td>NaN</td>\n",
       "      <td>NaN</td>\n",
       "      <td>2035.0</td>\n",
       "      <td>($2.00 / Count)</td>\n",
       "    </tr>\n",
       "    <tr>\n",
       "      <th>B084L2LTF2</th>\n",
       "      <td>Ships from and sold by Klatch Coffee Inc.</td>\n",
       "      <td>False</td>\n",
       "      <td>NaN</td>\n",
       "      <td>Brand: Klatch Coffee, Inc.</td>\n",
       "      <td>$17.00</td>\n",
       "      <td>NaN</td>\n",
       "      <td>https://m.media-amazon.com/images/I/81IKaKazAD...</td>\n",
       "      <td>Klatch Coffee Single Serve 8 Pack Variety</td>\n",
       "      <td>https://www.amazon.com/Klatch-Coffee-Single-Se...</td>\n",
       "      <td>0%</td>\n",
       "      <td>...</td>\n",
       "      <td>0%</td>\n",
       "      <td>0%</td>\n",
       "      <td>NaN</td>\n",
       "      <td>NaN</td>\n",
       "      <td>1 ounces (</td>\n",
       "      <td>NaN</td>\n",
       "      <td>NaN</td>\n",
       "      <td>NaN</td>\n",
       "      <td>NaN</td>\n",
       "      <td>($2.13 / Count)</td>\n",
       "    </tr>\n",
       "    <tr>\n",
       "      <th>B07XVPY4BD</th>\n",
       "      <td>Ships from and sold by CoffeeLover1111.</td>\n",
       "      <td>False</td>\n",
       "      <td>NaN</td>\n",
       "      <td>Brand: GANO EXCEL INTERNATIONAL</td>\n",
       "      <td>$132.00</td>\n",
       "      <td>GanoCafé 3-in-1 is the perfect blend of qualit...</td>\n",
       "      <td>https://m.media-amazon.com/images/I/6185W0qTmv...</td>\n",
       "      <td>NEW PACKAGE 10 Box Gano Excel Ganocafe Ganolic...</td>\n",
       "      <td>https://www.amazon.com/PACKAGE-Ganocafe-Ganoli...</td>\n",
       "      <td>0%</td>\n",
       "      <td>...</td>\n",
       "      <td>0%</td>\n",
       "      <td>0%</td>\n",
       "      <td>NaN</td>\n",
       "      <td>NaN</td>\n",
       "      <td>NaN</td>\n",
       "      <td>NaN</td>\n",
       "      <td>NaN</td>\n",
       "      <td>NaN</td>\n",
       "      <td>NaN</td>\n",
       "      <td>($132.00 / Count)</td>\n",
       "    </tr>\n",
       "    <tr>\n",
       "      <th>B004T3QD14</th>\n",
       "      <td>NaN</td>\n",
       "      <td>False</td>\n",
       "      <td>NaN</td>\n",
       "      <td>Brand: MAXWELL HOUSE</td>\n",
       "      <td>$29.18</td>\n",
       "      <td>Inspired by some of your favorite internationa...</td>\n",
       "      <td>https://m.media-amazon.com/images/I/81HKG7pjtg...</td>\n",
       "      <td>Maxwell House International Sugar-Free French ...</td>\n",
       "      <td>https://www.amazon.com/Maxwell-International-F...</td>\n",
       "      <td>12%</td>\n",
       "      <td>...</td>\n",
       "      <td>5%</td>\n",
       "      <td>78%</td>\n",
       "      <td>4.4</td>\n",
       "      <td>143.0</td>\n",
       "      <td>1.2 pounds</td>\n",
       "      <td>NaN</td>\n",
       "      <td>NaN</td>\n",
       "      <td>NaN</td>\n",
       "      <td>574.0</td>\n",
       "      <td>4 ounces</td>\n",
       "    </tr>\n",
       "    <tr>\n",
       "      <th>B002O48TRG</th>\n",
       "      <td>Sold by Special Supply and Fulfilled by Amazon.</td>\n",
       "      <td>True</td>\n",
       "      <td>10.0</td>\n",
       "      <td>Brand: Tim Hortons</td>\n",
       "      <td>$13.69</td>\n",
       "      <td>Tim Hortons first opened its doors in 1964. Si...</td>\n",
       "      <td>https://m.media-amazon.com/images/I/712ANgADFy...</td>\n",
       "      <td>Tim Horton's Instant Cappuccino, French Vanill...</td>\n",
       "      <td>https://www.amazon.com/Tim-Hortons-Cappuccino-...</td>\n",
       "      <td>10%</td>\n",
       "      <td>...</td>\n",
       "      <td>11%</td>\n",
       "      <td>70%</td>\n",
       "      <td>4.3</td>\n",
       "      <td>613.0</td>\n",
       "      <td>1.1 pounds (</td>\n",
       "      <td>NaN</td>\n",
       "      <td>NaN</td>\n",
       "      <td>NaN</td>\n",
       "      <td>194.0</td>\n",
       "      <td>($0.86 / Ounce)</td>\n",
       "    </tr>\n",
       "    <tr>\n",
       "      <th>B07CLNRZGW</th>\n",
       "      <td>Ships from and sold by PrimeHub CA.</td>\n",
       "      <td>False</td>\n",
       "      <td>NaN</td>\n",
       "      <td>Brand: SUPER</td>\n",
       "      <td>$16.59</td>\n",
       "      <td>NaN</td>\n",
       "      <td>https://m.media-amazon.com/images/I/518zSt-U2d...</td>\n",
       "      <td>Super Coffee / 3 In 1 Instant Mix / Rich Blend...</td>\n",
       "      <td>https://www.amazon.com/Super-Instant-Special-S...</td>\n",
       "      <td>0%</td>\n",
       "      <td>...</td>\n",
       "      <td>0%</td>\n",
       "      <td>0%</td>\n",
       "      <td>NaN</td>\n",
       "      <td>NaN</td>\n",
       "      <td>NaN</td>\n",
       "      <td>NaN</td>\n",
       "      <td>NaN</td>\n",
       "      <td>NaN</td>\n",
       "      <td>NaN</td>\n",
       "      <td>($0.78 / Ounce)</td>\n",
       "    </tr>\n",
       "    <tr>\n",
       "      <th>B07H6Z4H2M</th>\n",
       "      <td>Ships from and sold by Ceylontrend.</td>\n",
       "      <td>False</td>\n",
       "      <td>NaN</td>\n",
       "      <td>Brand: Nescafé</td>\n",
       "      <td>$25.80</td>\n",
       "      <td>To take your coffee experiences to the next le...</td>\n",
       "      <td>https://m.media-amazon.com/images/I/91SWNbCp6Q...</td>\n",
       "      <td>Nescafe classic 50g x3pcs</td>\n",
       "      <td>https://www.amazon.com/Nescaf%C3%A9-Nescafe-cl...</td>\n",
       "      <td>0%</td>\n",
       "      <td>...</td>\n",
       "      <td>0%</td>\n",
       "      <td>0%</td>\n",
       "      <td>NaN</td>\n",
       "      <td>NaN</td>\n",
       "      <td>NaN</td>\n",
       "      <td>NaN</td>\n",
       "      <td>NaN</td>\n",
       "      <td>NaN</td>\n",
       "      <td>NaN</td>\n",
       "      <td>($25.80 / Count)</td>\n",
       "    </tr>\n",
       "    <tr>\n",
       "      <th>B086ZZZWQJ</th>\n",
       "      <td>Ships from and sold by Nezool Store.</td>\n",
       "      <td>False</td>\n",
       "      <td>NaN</td>\n",
       "      <td>Brand: JACOBS</td>\n",
       "      <td>$20.00</td>\n",
       "      <td>instant coffee 85%, ground coffee 15%. The spe...</td>\n",
       "      <td>https://m.media-amazon.com/images/I/619nTEkK0H...</td>\n",
       "      <td>Instant Coffee Jacobs Barista Editions America...</td>\n",
       "      <td>https://www.amazon.com/Instant-Jacobs-Barista-...</td>\n",
       "      <td>0%</td>\n",
       "      <td>...</td>\n",
       "      <td>0%</td>\n",
       "      <td>0%</td>\n",
       "      <td>NaN</td>\n",
       "      <td>NaN</td>\n",
       "      <td>6.6 ounces (</td>\n",
       "      <td>NaN</td>\n",
       "      <td>NaN</td>\n",
       "      <td>NaN</td>\n",
       "      <td>NaN</td>\n",
       "      <td>($0.77 / Count)</td>\n",
       "    </tr>\n",
       "    <tr>\n",
       "      <th>B07XMNYPM4</th>\n",
       "      <td>Ships from and sold by CoffeeLover1111.</td>\n",
       "      <td>False</td>\n",
       "      <td>NaN</td>\n",
       "      <td>Brand: Organo</td>\n",
       "      <td>$98.80</td>\n",
       "      <td>Experience the aroma of freshly brewed coffee ...</td>\n",
       "      <td>https://m.media-amazon.com/images/I/71HiB4vYH2...</td>\n",
       "      <td>5 Box of Organo Gold Gourmet Black Coffee 100%...</td>\n",
       "      <td>https://www.amazon.com/Organo-Gourmet-Certifie...</td>\n",
       "      <td>0%</td>\n",
       "      <td>...</td>\n",
       "      <td>0%</td>\n",
       "      <td>0%</td>\n",
       "      <td>NaN</td>\n",
       "      <td>NaN</td>\n",
       "      <td>NaN</td>\n",
       "      <td>NaN</td>\n",
       "      <td>NaN</td>\n",
       "      <td>NaN</td>\n",
       "      <td>NaN</td>\n",
       "      <td>($19.76 / Count)</td>\n",
       "    </tr>\n",
       "  </tbody>\n",
       "</table>\n",
       "<p>10 rows × 22 columns</p>\n",
       "</div>"
      ],
      "text/plain": [
       "                                                        FBA  amazon_choice  \\\n",
       "ASIN                                                                         \n",
       "B00L3EMQEK        Ships from and sold by iSale-uSave (USA).          False   \n",
       "B07M9CW4KY             Ships from and sold by Mighty Depot.          False   \n",
       "B084L2LTF2        Ships from and sold by Klatch Coffee Inc.          False   \n",
       "B07XVPY4BD          Ships from and sold by CoffeeLover1111.          False   \n",
       "B004T3QD14                                              NaN          False   \n",
       "B002O48TRG  Sold by Special Supply and Fulfilled by Amazon.           True   \n",
       "B07CLNRZGW              Ships from and sold by PrimeHub CA.          False   \n",
       "B07H6Z4H2M              Ships from and sold by Ceylontrend.          False   \n",
       "B086ZZZWQJ             Ships from and sold by Nezool Store.          False   \n",
       "B07XMNYPM4          Ships from and sold by CoffeeLover1111.          False   \n",
       "\n",
       "            answered_questions                            brand    price  \\\n",
       "ASIN                                                                       \n",
       "B00L3EMQEK                 NaN                 Brand: Starbucks   $35.23   \n",
       "B07M9CW4KY                 NaN                    Brand: HICOMI   $29.99   \n",
       "B084L2LTF2                 NaN       Brand: Klatch Coffee, Inc.   $17.00   \n",
       "B07XVPY4BD                 NaN  Brand: GANO EXCEL INTERNATIONAL  $132.00   \n",
       "B004T3QD14                 NaN             Brand: MAXWELL HOUSE   $29.18   \n",
       "B002O48TRG                10.0               Brand: Tim Hortons   $13.69   \n",
       "B07CLNRZGW                 NaN                     Brand: SUPER   $16.59   \n",
       "B07H6Z4H2M                 NaN                   Brand: Nescafé   $25.80   \n",
       "B086ZZZWQJ                 NaN                    Brand: JACOBS   $20.00   \n",
       "B07XMNYPM4                 NaN                    Brand: Organo   $98.80   \n",
       "\n",
       "                                           productDescription  \\\n",
       "ASIN                                                            \n",
       "B00L3EMQEK  CAFFE MOCHA LATTE WITH DUTCHED AND NATURAL COC...   \n",
       "B07M9CW4KY  The world renowned White Coffee originated fro...   \n",
       "B084L2LTF2                                                NaN   \n",
       "B07XVPY4BD  GanoCafé 3-in-1 is the perfect blend of qualit...   \n",
       "B004T3QD14  Inspired by some of your favorite internationa...   \n",
       "B002O48TRG  Tim Hortons first opened its doors in 1964. Si...   \n",
       "B07CLNRZGW                                                NaN   \n",
       "B07H6Z4H2M  To take your coffee experiences to the next le...   \n",
       "B086ZZZWQJ  instant coffee 85%, ground coffee 15%. The spe...   \n",
       "B07XMNYPM4  Experience the aroma of freshly brewed coffee ...   \n",
       "\n",
       "                                           product_image_urls  \\\n",
       "ASIN                                                            \n",
       "B00L3EMQEK  https://m.media-amazon.com/images/I/71njd+a+tQ...   \n",
       "B07M9CW4KY  https://m.media-amazon.com/images/I/41G3rhVnT0...   \n",
       "B084L2LTF2  https://m.media-amazon.com/images/I/81IKaKazAD...   \n",
       "B07XVPY4BD  https://m.media-amazon.com/images/I/6185W0qTmv...   \n",
       "B004T3QD14  https://m.media-amazon.com/images/I/81HKG7pjtg...   \n",
       "B002O48TRG  https://m.media-amazon.com/images/I/712ANgADFy...   \n",
       "B07CLNRZGW  https://m.media-amazon.com/images/I/518zSt-U2d...   \n",
       "B07H6Z4H2M  https://m.media-amazon.com/images/I/91SWNbCp6Q...   \n",
       "B086ZZZWQJ  https://m.media-amazon.com/images/I/619nTEkK0H...   \n",
       "B07XMNYPM4  https://m.media-amazon.com/images/I/71HiB4vYH2...   \n",
       "\n",
       "                                                 product_name  \\\n",
       "ASIN                                                            \n",
       "B00L3EMQEK  Starbucks VIA Latte - Caffe Mocha (5 Single Se...   \n",
       "B07M9CW4KY  HICOMI Musang King Durian 4in1 Ipoh Instant Wh...   \n",
       "B084L2LTF2          Klatch Coffee Single Serve 8 Pack Variety   \n",
       "B07XVPY4BD  NEW PACKAGE 10 Box Gano Excel Ganocafe Ganolic...   \n",
       "B004T3QD14  Maxwell House International Sugar-Free French ...   \n",
       "B002O48TRG  Tim Horton's Instant Cappuccino, French Vanill...   \n",
       "B07CLNRZGW  Super Coffee / 3 In 1 Instant Mix / Rich Blend...   \n",
       "B07H6Z4H2M                          Nescafe classic 50g x3pcs   \n",
       "B086ZZZWQJ  Instant Coffee Jacobs Barista Editions America...   \n",
       "B07XMNYPM4  5 Box of Organo Gold Gourmet Black Coffee 100%...   \n",
       "\n",
       "                                                  product_url rating_1_star  \\\n",
       "ASIN                                                                          \n",
       "B00L3EMQEK  https://www.amazon.com/Starbucks-VIA-Latte-Sin...          100%   \n",
       "B07M9CW4KY  https://www.amazon.com/HICOMI-Musang-Durian-In...            0%   \n",
       "B084L2LTF2  https://www.amazon.com/Klatch-Coffee-Single-Se...            0%   \n",
       "B07XVPY4BD  https://www.amazon.com/PACKAGE-Ganocafe-Ganoli...            0%   \n",
       "B004T3QD14  https://www.amazon.com/Maxwell-International-F...           12%   \n",
       "B002O48TRG  https://www.amazon.com/Tim-Hortons-Cappuccino-...           10%   \n",
       "B07CLNRZGW  https://www.amazon.com/Super-Instant-Special-S...            0%   \n",
       "B07H6Z4H2M  https://www.amazon.com/Nescaf%C3%A9-Nescafe-cl...            0%   \n",
       "B086ZZZWQJ  https://www.amazon.com/Instant-Jacobs-Barista-...            0%   \n",
       "B07XMNYPM4  https://www.amazon.com/Organo-Gourmet-Certifie...            0%   \n",
       "\n",
       "            ... rating_4_star rating_5_star rating_avg rating_nums  \\\n",
       "ASIN        ...                                                      \n",
       "B00L3EMQEK  ...            0%            0%        1.0         2.0   \n",
       "B07M9CW4KY  ...           32%           68%        4.7         4.0   \n",
       "B084L2LTF2  ...            0%            0%        NaN         NaN   \n",
       "B07XVPY4BD  ...            0%            0%        NaN         NaN   \n",
       "B004T3QD14  ...            5%           78%        4.4       143.0   \n",
       "B002O48TRG  ...           11%           70%        4.3       613.0   \n",
       "B07CLNRZGW  ...            0%            0%        NaN         NaN   \n",
       "B07H6Z4H2M  ...            0%            0%        NaN         NaN   \n",
       "B086ZZZWQJ  ...            0%            0%        NaN         NaN   \n",
       "B07XMNYPM4  ...            0%            0%        NaN         NaN   \n",
       "\n",
       "            shipping_weight  subscribe subscribe_price_15per  \\\n",
       "ASIN                                                           \n",
       "B00L3EMQEK       2 pounds (        NaN                   NaN   \n",
       "B07M9CW4KY     1.4 pounds (        NaN                   NaN   \n",
       "B084L2LTF2       1 ounces (        NaN                   NaN   \n",
       "B07XVPY4BD              NaN        NaN                   NaN   \n",
       "B004T3QD14       1.2 pounds        NaN                   NaN   \n",
       "B002O48TRG     1.1 pounds (        NaN                   NaN   \n",
       "B07CLNRZGW              NaN        NaN                   NaN   \n",
       "B07H6Z4H2M              NaN        NaN                   NaN   \n",
       "B086ZZZWQJ     6.6 ounces (        NaN                   NaN   \n",
       "B07XMNYPM4              NaN        NaN                   NaN   \n",
       "\n",
       "           subscribe_price_5per top_sales_rank         unit_price  \n",
       "ASIN                                                               \n",
       "B00L3EMQEK                  NaN          884.0     ($8.81 / Item)  \n",
       "B07M9CW4KY                  NaN         2035.0    ($2.00 / Count)  \n",
       "B084L2LTF2                  NaN            NaN    ($2.13 / Count)  \n",
       "B07XVPY4BD                  NaN            NaN  ($132.00 / Count)  \n",
       "B004T3QD14                  NaN          574.0           4 ounces  \n",
       "B002O48TRG                  NaN          194.0    ($0.86 / Ounce)  \n",
       "B07CLNRZGW                  NaN            NaN    ($0.78 / Ounce)  \n",
       "B07H6Z4H2M                  NaN            NaN   ($25.80 / Count)  \n",
       "B086ZZZWQJ                  NaN            NaN    ($0.77 / Count)  \n",
       "B07XMNYPM4                  NaN            NaN   ($19.76 / Count)  \n",
       "\n",
       "[10 rows x 22 columns]"
      ]
     },
     "execution_count": 7,
     "metadata": {},
     "output_type": "execute_result"
    }
   ],
   "source": [
    "coffee.sample(10)"
   ]
  },
  {
   "cell_type": "code",
   "execution_count": 9,
   "metadata": {},
   "outputs": [],
   "source": [
    "coffee['FBA'] = coffee['FBA'].fillna('')"
   ]
  },
  {
   "cell_type": "code",
   "execution_count": 10,
   "metadata": {},
   "outputs": [],
   "source": [
    "coffee['FBA_label'] = ['Amazon product' if x.find('Ships from and sold by Amazon.com')!=-1 else 'FBA' if x.find('Fulfilled by Amazon')!=-1 else '' if x=='' else 'Third Party' for x in coffee['FBA']]"
   ]
  },
  {
   "cell_type": "code",
   "execution_count": 12,
   "metadata": {},
   "outputs": [],
   "source": [
    "cols = coffee.columns.tolist()\n",
    "# cols\n",
    "cols = cols[-1:] + cols[:-1]\n",
    "coffee = coffee[cols]"
   ]
  },
  {
   "cell_type": "code",
   "execution_count": 13,
   "metadata": {},
   "outputs": [],
   "source": [
    "coffee['answered_questions'] = coffee['answered_questions'].fillna(0)"
   ]
  },
  {
   "cell_type": "code",
   "execution_count": 14,
   "metadata": {
    "collapsed": true
   },
   "outputs": [
    {
     "data": {
      "text/plain": [
       "FBA_label                 object\n",
       "FBA                       object\n",
       "amazon_choice               bool\n",
       "answered_questions       float64\n",
       "brand                     object\n",
       "price                     object\n",
       "productDescription        object\n",
       "product_image_urls        object\n",
       "product_name              object\n",
       "product_url               object\n",
       "rating_1_star             object\n",
       "rating_2_star             object\n",
       "rating_3_star             object\n",
       "rating_4_star             object\n",
       "rating_5_star             object\n",
       "rating_avg               float64\n",
       "rating_nums              float64\n",
       "shipping_weight           object\n",
       "subscribe                 object\n",
       "subscribe_price_15per     object\n",
       "subscribe_price_5per      object\n",
       "top_sales_rank           float64\n",
       "unit_price                object\n",
       "dtype: object"
      ]
     },
     "execution_count": 14,
     "metadata": {},
     "output_type": "execute_result"
    }
   ],
   "source": [
    "coffee.dtypes"
   ]
  },
  {
   "cell_type": "code",
   "execution_count": 15,
   "metadata": {},
   "outputs": [],
   "source": [
    "coffee.answered_questions=coffee.answered_questions.astype('int32')"
   ]
  },
  {
   "cell_type": "code",
   "execution_count": 16,
   "metadata": {
    "collapsed": true
   },
   "outputs": [
    {
     "data": {
      "text/html": [
       "<div>\n",
       "<style scoped>\n",
       "    .dataframe tbody tr th:only-of-type {\n",
       "        vertical-align: middle;\n",
       "    }\n",
       "\n",
       "    .dataframe tbody tr th {\n",
       "        vertical-align: top;\n",
       "    }\n",
       "\n",
       "    .dataframe thead th {\n",
       "        text-align: right;\n",
       "    }\n",
       "</style>\n",
       "<table border=\"1\" class=\"dataframe\">\n",
       "  <thead>\n",
       "    <tr style=\"text-align: right;\">\n",
       "      <th></th>\n",
       "      <th>FBA_label</th>\n",
       "      <th>FBA</th>\n",
       "      <th>amazon_choice</th>\n",
       "      <th>answered_questions</th>\n",
       "      <th>brand</th>\n",
       "      <th>price</th>\n",
       "      <th>productDescription</th>\n",
       "      <th>product_image_urls</th>\n",
       "      <th>product_name</th>\n",
       "      <th>product_url</th>\n",
       "      <th>...</th>\n",
       "      <th>rating_4_star</th>\n",
       "      <th>rating_5_star</th>\n",
       "      <th>rating_avg</th>\n",
       "      <th>rating_nums</th>\n",
       "      <th>shipping_weight</th>\n",
       "      <th>subscribe</th>\n",
       "      <th>subscribe_price_15per</th>\n",
       "      <th>subscribe_price_5per</th>\n",
       "      <th>top_sales_rank</th>\n",
       "      <th>unit_price</th>\n",
       "    </tr>\n",
       "    <tr>\n",
       "      <th>ASIN</th>\n",
       "      <th></th>\n",
       "      <th></th>\n",
       "      <th></th>\n",
       "      <th></th>\n",
       "      <th></th>\n",
       "      <th></th>\n",
       "      <th></th>\n",
       "      <th></th>\n",
       "      <th></th>\n",
       "      <th></th>\n",
       "      <th></th>\n",
       "      <th></th>\n",
       "      <th></th>\n",
       "      <th></th>\n",
       "      <th></th>\n",
       "      <th></th>\n",
       "      <th></th>\n",
       "      <th></th>\n",
       "      <th></th>\n",
       "      <th></th>\n",
       "      <th></th>\n",
       "    </tr>\n",
       "  </thead>\n",
       "  <tbody>\n",
       "    <tr>\n",
       "      <th>B07LGK8H5P</th>\n",
       "      <td></td>\n",
       "      <td></td>\n",
       "      <td>False</td>\n",
       "      <td>0</td>\n",
       "      <td>VFINITY</td>\n",
       "      <td>$65.00</td>\n",
       "      <td>KETOPERK unique clean coffee blend of ultra-pr...</td>\n",
       "      <td>https://m.media-amazon.com/images/I/41i+QfyzMg...</td>\n",
       "      <td>KETOPERK Ultra Premium Weight Management Colom...</td>\n",
       "      <td>https://www.amazon.com/KETOPERK-Premium-Manage...</td>\n",
       "      <td>...</td>\n",
       "      <td>0%</td>\n",
       "      <td>0%</td>\n",
       "      <td>NaN</td>\n",
       "      <td>NaN</td>\n",
       "      <td>9.3 ounces</td>\n",
       "      <td>NaN</td>\n",
       "      <td>NaN</td>\n",
       "      <td>NaN</td>\n",
       "      <td>3373.0</td>\n",
       "      <td>9.3 ounces</td>\n",
       "    </tr>\n",
       "    <tr>\n",
       "      <th>B07CGQ5TLK</th>\n",
       "      <td>Third Party</td>\n",
       "      <td>Ships from and sold by PrimeHub CA.</td>\n",
       "      <td>False</td>\n",
       "      <td>0</td>\n",
       "      <td>Hainan Lao</td>\n",
       "      <td>$17.49</td>\n",
       "      <td>Preparation:</td>\n",
       "      <td>https://m.media-amazon.com/images/I/51yQi8zpj+...</td>\n",
       "      <td>Mr. Hainan Lao/Instant Premix Hainanese Tradit...</td>\n",
       "      <td>https://www.amazon.com/Hainan-Lao-Hainanese-Tr...</td>\n",
       "      <td>...</td>\n",
       "      <td>0%</td>\n",
       "      <td>100%</td>\n",
       "      <td>5.0</td>\n",
       "      <td>1.0</td>\n",
       "      <td>NaN</td>\n",
       "      <td>NaN</td>\n",
       "      <td>NaN</td>\n",
       "      <td>NaN</td>\n",
       "      <td>3952.0</td>\n",
       "      <td>($0.03 / Gram)</td>\n",
       "    </tr>\n",
       "    <tr>\n",
       "      <th>B07RXR5ZS2</th>\n",
       "      <td>Third Party</td>\n",
       "      <td>Ships from and sold by JARSA HAUS.</td>\n",
       "      <td>False</td>\n",
       "      <td>0</td>\n",
       "      <td>Organo Gold</td>\n",
       "      <td>$156.00</td>\n",
       "      <td>100% Certified Organic Ganoderma Lucidum. More...</td>\n",
       "      <td>https://m.media-amazon.com/images/I/51-bUtX5Kv...</td>\n",
       "      <td>Organo Gold Ganoderma Cafe Latte 8 Boxes</td>\n",
       "      <td>https://www.amazon.com/Organo-Gold-Ganoderma-L...</td>\n",
       "      <td>...</td>\n",
       "      <td>0%</td>\n",
       "      <td>0%</td>\n",
       "      <td>NaN</td>\n",
       "      <td>NaN</td>\n",
       "      <td>NaN</td>\n",
       "      <td>NaN</td>\n",
       "      <td>NaN</td>\n",
       "      <td>NaN</td>\n",
       "      <td>NaN</td>\n",
       "      <td>($19.50 / Count)</td>\n",
       "    </tr>\n",
       "    <tr>\n",
       "      <th>B08DCKRDPF</th>\n",
       "      <td>Third Party</td>\n",
       "      <td>Ships from and sold by 628MART.</td>\n",
       "      <td>False</td>\n",
       "      <td>0</td>\n",
       "      <td>Aik Cheong</td>\n",
       "      <td>$68.88</td>\n",
       "      <td>NaN</td>\n",
       "      <td>https://m.media-amazon.com/images/I/61qvE1-ixa...</td>\n",
       "      <td>Aik Cheong Kopi O Bag Original 10g x 100's (62...</td>\n",
       "      <td>https://www.amazon.com/Aik-Cheong-Original-628...</td>\n",
       "      <td>...</td>\n",
       "      <td>0%</td>\n",
       "      <td>0%</td>\n",
       "      <td>NaN</td>\n",
       "      <td>NaN</td>\n",
       "      <td>NaN</td>\n",
       "      <td>NaN</td>\n",
       "      <td>NaN</td>\n",
       "      <td>NaN</td>\n",
       "      <td>NaN</td>\n",
       "      <td>($1.95 / Ounce)</td>\n",
       "    </tr>\n",
       "    <tr>\n",
       "      <th>B012UWL0AO</th>\n",
       "      <td>Third Party</td>\n",
       "      <td>Ships from and sold by ABM Enterprises.</td>\n",
       "      <td>False</td>\n",
       "      <td>0</td>\n",
       "      <td>Starbucks</td>\n",
       "      <td>$20.60</td>\n",
       "      <td>NaN</td>\n",
       "      <td>https://m.media-amazon.com/images/I/4160QvpmrX...</td>\n",
       "      <td>Starbucks VIA Latte Vanilla Latte Specialty Co...</td>\n",
       "      <td>https://www.amazon.com/Starbucks-Vanilla-Speci...</td>\n",
       "      <td>...</td>\n",
       "      <td>0%</td>\n",
       "      <td>0%</td>\n",
       "      <td>NaN</td>\n",
       "      <td>NaN</td>\n",
       "      <td>14.4 ounces (</td>\n",
       "      <td>NaN</td>\n",
       "      <td>NaN</td>\n",
       "      <td>NaN</td>\n",
       "      <td>3063.0</td>\n",
       "      <td>($2.06 / Count)</td>\n",
       "    </tr>\n",
       "    <tr>\n",
       "      <th>B076QHV43N</th>\n",
       "      <td>Third Party</td>\n",
       "      <td>Ships from and sold by JARSA HAUS.</td>\n",
       "      <td>False</td>\n",
       "      <td>0</td>\n",
       "      <td>Gano Excel</td>\n",
       "      <td>$295.82</td>\n",
       "      <td>Ganocafe Mocha with is an instant coffee blend...</td>\n",
       "      <td>https://m.media-amazon.com/images/I/71eX3YXyD+...</td>\n",
       "      <td>18 Boxes Gano Excel Mocha Coffee Ganoderma Luc...</td>\n",
       "      <td>https://www.amazon.com/Gano-Excel-Ganoderma-Lu...</td>\n",
       "      <td>...</td>\n",
       "      <td>0%</td>\n",
       "      <td>0%</td>\n",
       "      <td>NaN</td>\n",
       "      <td>NaN</td>\n",
       "      <td>NaN</td>\n",
       "      <td>NaN</td>\n",
       "      <td>NaN</td>\n",
       "      <td>NaN</td>\n",
       "      <td>NaN</td>\n",
       "      <td>B076QHV43N</td>\n",
       "    </tr>\n",
       "    <tr>\n",
       "      <th>B000VK7UZW</th>\n",
       "      <td>Amazon product</td>\n",
       "      <td>Ships from and sold by Amazon.com.</td>\n",
       "      <td>False</td>\n",
       "      <td>0</td>\n",
       "      <td>Mount Hagen</td>\n",
       "      <td>$11.81</td>\n",
       "      <td>We have begun this journey with items for your...</td>\n",
       "      <td>https://m.media-amazon.com/images/I/41uC+ykKJz...</td>\n",
       "      <td>Mount Hagen Organic Freeze Dried Instant Groun...</td>\n",
       "      <td>https://www.amazon.com/Mount-Hagen-Organic-Fre...</td>\n",
       "      <td>...</td>\n",
       "      <td>12%</td>\n",
       "      <td>75%</td>\n",
       "      <td>4.5</td>\n",
       "      <td>87.0</td>\n",
       "      <td>11.2 ounces (</td>\n",
       "      <td>NaN</td>\n",
       "      <td>NaN</td>\n",
       "      <td>NaN</td>\n",
       "      <td>83.0</td>\n",
       "      <td>($3.35 / Ounce)</td>\n",
       "    </tr>\n",
       "    <tr>\n",
       "      <th>B07BWBVR6J</th>\n",
       "      <td>Third Party</td>\n",
       "      <td>Ships from and sold by First SuperMarket.</td>\n",
       "      <td>False</td>\n",
       "      <td>0</td>\n",
       "      <td>Old Town</td>\n",
       "      <td>$19.99</td>\n",
       "      <td>NaN</td>\n",
       "      <td>https://m.media-amazon.com/images/I/61jeP67Shd...</td>\n",
       "      <td>Malaysia Authentic Old Town The True 3-In-1 Wh...</td>\n",
       "      <td>https://www.amazon.com/Malaysia-Authentic-Old-...</td>\n",
       "      <td>...</td>\n",
       "      <td>0%</td>\n",
       "      <td>0%</td>\n",
       "      <td>NaN</td>\n",
       "      <td>NaN</td>\n",
       "      <td>NaN</td>\n",
       "      <td>NaN</td>\n",
       "      <td>NaN</td>\n",
       "      <td>NaN</td>\n",
       "      <td>1501.0</td>\n",
       "      <td>($1.05 / Ounce)</td>\n",
       "    </tr>\n",
       "    <tr>\n",
       "      <th>B07H8Z3FB1</th>\n",
       "      <td>Third Party</td>\n",
       "      <td>Ships from and sold by Makaio.</td>\n",
       "      <td>False</td>\n",
       "      <td>0</td>\n",
       "      <td>Maxim</td>\n",
       "      <td>$60.00</td>\n",
       "      <td>NaN</td>\n",
       "      <td>https://m.media-amazon.com/images/I/61PD-mdbGe...</td>\n",
       "      <td>Maxim KANU Mild Lost Americano 맥심카누 마일드로스트 아메리...</td>\n",
       "      <td>https://www.amazon.com/Maxim-KANU-Mild-Lost-Am...</td>\n",
       "      <td>...</td>\n",
       "      <td>0%</td>\n",
       "      <td>0%</td>\n",
       "      <td>NaN</td>\n",
       "      <td>NaN</td>\n",
       "      <td>NaN</td>\n",
       "      <td>NaN</td>\n",
       "      <td>NaN</td>\n",
       "      <td>NaN</td>\n",
       "      <td>3812.0</td>\n",
       "      <td>($0.38 / Count)</td>\n",
       "    </tr>\n",
       "    <tr>\n",
       "      <th>B000IMSYKI</th>\n",
       "      <td>Third Party</td>\n",
       "      <td>Ships from and sold by Star Magic.</td>\n",
       "      <td>False</td>\n",
       "      <td>0</td>\n",
       "      <td>Toysmith</td>\n",
       "      <td>$6.89</td>\n",
       "      <td>INSTANT Foam CrittersPrehistoric AnimalsSet #4</td>\n",
       "      <td>https://m.media-amazon.com/images/I/41WISywACc...</td>\n",
       "      <td>Instant Prehistoric Set # 4</td>\n",
       "      <td>https://www.amazon.com/3354-Conjunto-prehist%C...</td>\n",
       "      <td>...</td>\n",
       "      <td>0%</td>\n",
       "      <td>100%</td>\n",
       "      <td>5.0</td>\n",
       "      <td>1.0</td>\n",
       "      <td>0.3 ounces (</td>\n",
       "      <td>NaN</td>\n",
       "      <td>NaN</td>\n",
       "      <td>NaN</td>\n",
       "      <td>3388.0</td>\n",
       "      <td>($6.89 / Item)</td>\n",
       "    </tr>\n",
       "  </tbody>\n",
       "</table>\n",
       "<p>10 rows × 23 columns</p>\n",
       "</div>"
      ],
      "text/plain": [
       "                 FBA_label                                        FBA  \\\n",
       "ASIN                                                                    \n",
       "B07LGK8H5P                                                              \n",
       "B07CGQ5TLK     Third Party        Ships from and sold by PrimeHub CA.   \n",
       "B07RXR5ZS2     Third Party         Ships from and sold by JARSA HAUS.   \n",
       "B08DCKRDPF     Third Party            Ships from and sold by 628MART.   \n",
       "B012UWL0AO     Third Party    Ships from and sold by ABM Enterprises.   \n",
       "B076QHV43N     Third Party         Ships from and sold by JARSA HAUS.   \n",
       "B000VK7UZW  Amazon product         Ships from and sold by Amazon.com.   \n",
       "B07BWBVR6J     Third Party  Ships from and sold by First SuperMarket.   \n",
       "B07H8Z3FB1     Third Party             Ships from and sold by Makaio.   \n",
       "B000IMSYKI     Third Party         Ships from and sold by Star Magic.   \n",
       "\n",
       "            amazon_choice  answered_questions        brand    price  \\\n",
       "ASIN                                                                  \n",
       "B07LGK8H5P          False                   0      VFINITY   $65.00   \n",
       "B07CGQ5TLK          False                   0   Hainan Lao   $17.49   \n",
       "B07RXR5ZS2          False                   0  Organo Gold  $156.00   \n",
       "B08DCKRDPF          False                   0   Aik Cheong   $68.88   \n",
       "B012UWL0AO          False                   0    Starbucks   $20.60   \n",
       "B076QHV43N          False                   0   Gano Excel  $295.82   \n",
       "B000VK7UZW          False                   0  Mount Hagen   $11.81   \n",
       "B07BWBVR6J          False                   0     Old Town   $19.99   \n",
       "B07H8Z3FB1          False                   0        Maxim   $60.00   \n",
       "B000IMSYKI          False                   0     Toysmith    $6.89   \n",
       "\n",
       "                                           productDescription  \\\n",
       "ASIN                                                            \n",
       "B07LGK8H5P  KETOPERK unique clean coffee blend of ultra-pr...   \n",
       "B07CGQ5TLK                                       Preparation:   \n",
       "B07RXR5ZS2  100% Certified Organic Ganoderma Lucidum. More...   \n",
       "B08DCKRDPF                                                NaN   \n",
       "B012UWL0AO                                                NaN   \n",
       "B076QHV43N  Ganocafe Mocha with is an instant coffee blend...   \n",
       "B000VK7UZW  We have begun this journey with items for your...   \n",
       "B07BWBVR6J                                                NaN   \n",
       "B07H8Z3FB1                                                NaN   \n",
       "B000IMSYKI     INSTANT Foam CrittersPrehistoric AnimalsSet #4   \n",
       "\n",
       "                                           product_image_urls  \\\n",
       "ASIN                                                            \n",
       "B07LGK8H5P  https://m.media-amazon.com/images/I/41i+QfyzMg...   \n",
       "B07CGQ5TLK  https://m.media-amazon.com/images/I/51yQi8zpj+...   \n",
       "B07RXR5ZS2  https://m.media-amazon.com/images/I/51-bUtX5Kv...   \n",
       "B08DCKRDPF  https://m.media-amazon.com/images/I/61qvE1-ixa...   \n",
       "B012UWL0AO  https://m.media-amazon.com/images/I/4160QvpmrX...   \n",
       "B076QHV43N  https://m.media-amazon.com/images/I/71eX3YXyD+...   \n",
       "B000VK7UZW  https://m.media-amazon.com/images/I/41uC+ykKJz...   \n",
       "B07BWBVR6J  https://m.media-amazon.com/images/I/61jeP67Shd...   \n",
       "B07H8Z3FB1  https://m.media-amazon.com/images/I/61PD-mdbGe...   \n",
       "B000IMSYKI  https://m.media-amazon.com/images/I/41WISywACc...   \n",
       "\n",
       "                                                 product_name  \\\n",
       "ASIN                                                            \n",
       "B07LGK8H5P  KETOPERK Ultra Premium Weight Management Colom...   \n",
       "B07CGQ5TLK  Mr. Hainan Lao/Instant Premix Hainanese Tradit...   \n",
       "B07RXR5ZS2   Organo Gold Ganoderma Cafe Latte 8 Boxes           \n",
       "B08DCKRDPF  Aik Cheong Kopi O Bag Original 10g x 100's (62...   \n",
       "B012UWL0AO  Starbucks VIA Latte Vanilla Latte Specialty Co...   \n",
       "B076QHV43N  18 Boxes Gano Excel Mocha Coffee Ganoderma Luc...   \n",
       "B000VK7UZW  Mount Hagen Organic Freeze Dried Instant Groun...   \n",
       "B07BWBVR6J  Malaysia Authentic Old Town The True 3-In-1 Wh...   \n",
       "B07H8Z3FB1  Maxim KANU Mild Lost Americano 맥심카누 마일드로스트 아메리...   \n",
       "B000IMSYKI                        Instant Prehistoric Set # 4   \n",
       "\n",
       "                                                  product_url  ...  \\\n",
       "ASIN                                                           ...   \n",
       "B07LGK8H5P  https://www.amazon.com/KETOPERK-Premium-Manage...  ...   \n",
       "B07CGQ5TLK  https://www.amazon.com/Hainan-Lao-Hainanese-Tr...  ...   \n",
       "B07RXR5ZS2  https://www.amazon.com/Organo-Gold-Ganoderma-L...  ...   \n",
       "B08DCKRDPF  https://www.amazon.com/Aik-Cheong-Original-628...  ...   \n",
       "B012UWL0AO  https://www.amazon.com/Starbucks-Vanilla-Speci...  ...   \n",
       "B076QHV43N  https://www.amazon.com/Gano-Excel-Ganoderma-Lu...  ...   \n",
       "B000VK7UZW  https://www.amazon.com/Mount-Hagen-Organic-Fre...  ...   \n",
       "B07BWBVR6J  https://www.amazon.com/Malaysia-Authentic-Old-...  ...   \n",
       "B07H8Z3FB1  https://www.amazon.com/Maxim-KANU-Mild-Lost-Am...  ...   \n",
       "B000IMSYKI  https://www.amazon.com/3354-Conjunto-prehist%C...  ...   \n",
       "\n",
       "           rating_4_star rating_5_star rating_avg rating_nums shipping_weight  \\\n",
       "ASIN                                                                            \n",
       "B07LGK8H5P            0%            0%        NaN         NaN      9.3 ounces   \n",
       "B07CGQ5TLK            0%          100%        5.0         1.0             NaN   \n",
       "B07RXR5ZS2            0%            0%        NaN         NaN             NaN   \n",
       "B08DCKRDPF            0%            0%        NaN         NaN             NaN   \n",
       "B012UWL0AO            0%            0%        NaN         NaN   14.4 ounces (   \n",
       "B076QHV43N            0%            0%        NaN         NaN             NaN   \n",
       "B000VK7UZW           12%           75%        4.5        87.0   11.2 ounces (   \n",
       "B07BWBVR6J            0%            0%        NaN         NaN             NaN   \n",
       "B07H8Z3FB1            0%            0%        NaN         NaN             NaN   \n",
       "B000IMSYKI            0%          100%        5.0         1.0    0.3 ounces (   \n",
       "\n",
       "            subscribe  subscribe_price_15per subscribe_price_5per  \\\n",
       "ASIN                                                                \n",
       "B07LGK8H5P        NaN                    NaN                  NaN   \n",
       "B07CGQ5TLK        NaN                    NaN                  NaN   \n",
       "B07RXR5ZS2        NaN                    NaN                  NaN   \n",
       "B08DCKRDPF        NaN                    NaN                  NaN   \n",
       "B012UWL0AO        NaN                    NaN                  NaN   \n",
       "B076QHV43N        NaN                    NaN                  NaN   \n",
       "B000VK7UZW        NaN                    NaN                  NaN   \n",
       "B07BWBVR6J        NaN                    NaN                  NaN   \n",
       "B07H8Z3FB1        NaN                    NaN                  NaN   \n",
       "B000IMSYKI        NaN                    NaN                  NaN   \n",
       "\n",
       "           top_sales_rank        unit_price  \n",
       "ASIN                                         \n",
       "B07LGK8H5P         3373.0        9.3 ounces  \n",
       "B07CGQ5TLK         3952.0    ($0.03 / Gram)  \n",
       "B07RXR5ZS2            NaN  ($19.50 / Count)  \n",
       "B08DCKRDPF            NaN   ($1.95 / Ounce)  \n",
       "B012UWL0AO         3063.0   ($2.06 / Count)  \n",
       "B076QHV43N            NaN        B076QHV43N  \n",
       "B000VK7UZW           83.0   ($3.35 / Ounce)  \n",
       "B07BWBVR6J         1501.0   ($1.05 / Ounce)  \n",
       "B07H8Z3FB1         3812.0   ($0.38 / Count)  \n",
       "B000IMSYKI         3388.0    ($6.89 / Item)  \n",
       "\n",
       "[10 rows x 23 columns]"
      ]
     },
     "execution_count": 16,
     "metadata": {},
     "output_type": "execute_result"
    }
   ],
   "source": [
    "coffee['brand'] = coffee['brand'].astype('str').str.split('Brand: ').str[-1]"
   ]
  },
  {
   "cell_type": "code",
   "execution_count": 17,
   "metadata": {},
   "outputs": [],
   "source": [
    "coffee['price']=coffee['price'].astype('str').str.replace('$','').str.replace(',','').astype('float')"
   ]
  },
  {
   "cell_type": "code",
   "execution_count": 18,
   "metadata": {},
   "outputs": [],
   "source": [
    "coffee=coffee.rename(columns={'price': 'price_in_US_dollars'})"
   ]
  },
  {
   "cell_type": "code",
   "execution_count": 19,
   "metadata": {},
   "outputs": [],
   "source": [
    "for i in range(1,6):\n",
    "    coffee[f'rating_{i}_star']=coffee[f'rating_{i}_star'].str.rstrip('%').astype('float') / 100"
   ]
  },
  {
   "cell_type": "code",
   "execution_count": 20,
   "metadata": {},
   "outputs": [],
   "source": [
    "coffee['shipping_weight']=coffee['shipping_weight'].astype('str').str.replace('(','').str.strip()"
   ]
  },
  {
   "cell_type": "code",
   "execution_count": 21,
   "metadata": {},
   "outputs": [],
   "source": [
    "coffee[['shipping_weight_number','shipping_weight_unit']] = coffee.shipping_weight.str.split(\" \",expand=True)"
   ]
  },
  {
   "cell_type": "code",
   "execution_count": 22,
   "metadata": {},
   "outputs": [],
   "source": [
    "coffee['shipping_weight_number']=coffee['shipping_weight_number'].astype('float')"
   ]
  },
  {
   "cell_type": "code",
   "execution_count": 23,
   "metadata": {},
   "outputs": [],
   "source": [
    "coffee['shipping_weight_number']=np.where(coffee['shipping_weight_unit'].str.lower()=='pounds',coffee['shipping_weight_number']*16,coffee['shipping_weight_number'])"
   ]
  },
  {
   "cell_type": "code",
   "execution_count": 24,
   "metadata": {},
   "outputs": [],
   "source": [
    "coffee.drop(['shipping_weight_unit'], axis=1, inplace=True)"
   ]
  },
  {
   "cell_type": "code",
   "execution_count": 25,
   "metadata": {},
   "outputs": [],
   "source": [
    "coffee=coffee.rename(columns={'shipping_weight_number': 'shipping_weight_in_ounces'})"
   ]
  },
  {
   "cell_type": "code",
   "execution_count": 26,
   "metadata": {},
   "outputs": [],
   "source": [
    "coffee['subscribe_flag']=(coffee['subscribe'].fillna(\"\").str.find('Subscribe & Save')!=-1)"
   ]
  },
  {
   "cell_type": "code",
   "execution_count": 27,
   "metadata": {},
   "outputs": [],
   "source": [
    "coffee[['subscribe_price_15per_2','subscribe_price_15per_unit_price']] = coffee.subscribe_price_15per.str.split(\"\\n\\n\",expand=True)"
   ]
  },
  {
   "cell_type": "code",
   "execution_count": 28,
   "metadata": {},
   "outputs": [],
   "source": [
    "coffee[['subscribe_price_5per','subscribe_price_5per_unit_price']] = coffee.subscribe_price_5per.str.split(\"\\n\\n\",expand=True)"
   ]
  },
  {
   "cell_type": "code",
   "execution_count": 29,
   "metadata": {},
   "outputs": [],
   "source": [
    "coffee['subscribe_price_15per_USdollars']=coffee['subscribe_price_15per_2'].astype('str').str.replace('$','').str.replace(',','').astype('float')"
   ]
  },
  {
   "cell_type": "code",
   "execution_count": 30,
   "metadata": {},
   "outputs": [],
   "source": [
    "coffee['subscribe_price_5per_USdollars']=coffee['subscribe_price_5per'].astype('str').str.replace('$','').str.replace(',','').astype('float')"
   ]
  },
  {
   "cell_type": "code",
   "execution_count": 31,
   "metadata": {},
   "outputs": [],
   "source": [
    "coffee.drop(['subscribe_price_15per'], axis=1, inplace=True)"
   ]
  },
  {
   "cell_type": "code",
   "execution_count": 32,
   "metadata": {},
   "outputs": [],
   "source": [
    "coffee.drop(['subscribe_price_15per_2'], axis=1, inplace=True)"
   ]
  },
  {
   "cell_type": "code",
   "execution_count": 33,
   "metadata": {},
   "outputs": [],
   "source": [
    "for i in [5,15]:\n",
    "    coffee[f'subscribe_price_{i}per_unit_price']=coffee[f'subscribe_price_{i}per_unit_price'].astype('str').str.replace('(','').str.replace(')','').str.replace('$','')\n",
    "    coffee[[f'subscribe_{i}_unitprice',f'subscribe_{i}_unit']] = coffee[f'subscribe_price_{i}per_unit_price'].str.split(\" / \",expand=True)\n",
    "    coffee[f'subscribe_{i}_unitprice']=coffee[f'subscribe_{i}_unitprice'].replace('None',np.nan).astype('float')"
   ]
  },
  {
   "cell_type": "code",
   "execution_count": 34,
   "metadata": {
    "collapsed": true
   },
   "outputs": [
    {
     "data": {
      "text/html": [
       "<div>\n",
       "<style scoped>\n",
       "    .dataframe tbody tr th:only-of-type {\n",
       "        vertical-align: middle;\n",
       "    }\n",
       "\n",
       "    .dataframe tbody tr th {\n",
       "        vertical-align: top;\n",
       "    }\n",
       "\n",
       "    .dataframe thead th {\n",
       "        text-align: right;\n",
       "    }\n",
       "</style>\n",
       "<table border=\"1\" class=\"dataframe\">\n",
       "  <thead>\n",
       "    <tr style=\"text-align: right;\">\n",
       "      <th></th>\n",
       "      <th>FBA_label</th>\n",
       "      <th>FBA</th>\n",
       "      <th>amazon_choice</th>\n",
       "      <th>answered_questions</th>\n",
       "      <th>brand</th>\n",
       "      <th>price_in_US_dollars</th>\n",
       "      <th>productDescription</th>\n",
       "      <th>product_image_urls</th>\n",
       "      <th>product_name</th>\n",
       "      <th>product_url</th>\n",
       "      <th>...</th>\n",
       "      <th>shipping_weight_in_ounces</th>\n",
       "      <th>subscribe_flag</th>\n",
       "      <th>subscribe_price_15per_unit_price</th>\n",
       "      <th>subscribe_price_5per_unit_price</th>\n",
       "      <th>subscribe_price_15per_USdollars</th>\n",
       "      <th>subscribe_price_5per_USdollars</th>\n",
       "      <th>subscribe_5_unitprice</th>\n",
       "      <th>subscribe_5_unit</th>\n",
       "      <th>subscribe_15_unitprice</th>\n",
       "      <th>subscribe_15_unit</th>\n",
       "    </tr>\n",
       "    <tr>\n",
       "      <th>ASIN</th>\n",
       "      <th></th>\n",
       "      <th></th>\n",
       "      <th></th>\n",
       "      <th></th>\n",
       "      <th></th>\n",
       "      <th></th>\n",
       "      <th></th>\n",
       "      <th></th>\n",
       "      <th></th>\n",
       "      <th></th>\n",
       "      <th></th>\n",
       "      <th></th>\n",
       "      <th></th>\n",
       "      <th></th>\n",
       "      <th></th>\n",
       "      <th></th>\n",
       "      <th></th>\n",
       "      <th></th>\n",
       "      <th></th>\n",
       "      <th></th>\n",
       "      <th></th>\n",
       "    </tr>\n",
       "  </thead>\n",
       "  <tbody>\n",
       "    <tr>\n",
       "      <th>B000BKGPVM</th>\n",
       "      <td>FBA</td>\n",
       "      <td>Auto-deliveries sold by Cadima Rani and Fulfil...</td>\n",
       "      <td>False</td>\n",
       "      <td>0</td>\n",
       "      <td>Big Train</td>\n",
       "      <td>35.00</td>\n",
       "      <td>Big train Powdered Drink Mix</td>\n",
       "      <td>https://m.media-amazon.com/images/I/910Rjx5vxJ...</td>\n",
       "      <td>Big Train Blended Iced Coffee - Toffee Mocha (...</td>\n",
       "      <td>https://www.amazon.com/Big-Train-Blended-Iced-...</td>\n",
       "      <td>...</td>\n",
       "      <td>57.6</td>\n",
       "      <td>True</td>\n",
       "      <td>0.46 /  Ounce</td>\n",
       "      <td>0.48 /  Ounce</td>\n",
       "      <td>25.64</td>\n",
       "      <td>27.07</td>\n",
       "      <td>0.48</td>\n",
       "      <td>Ounce</td>\n",
       "      <td>0.46</td>\n",
       "      <td>Ounce</td>\n",
       "    </tr>\n",
       "    <tr>\n",
       "      <th>B000ESJR20</th>\n",
       "      <td>FBA</td>\n",
       "      <td>Auto-deliveries sold by Vitamins4Beauty and Fu...</td>\n",
       "      <td>True</td>\n",
       "      <td>26</td>\n",
       "      <td>Mount Hagen</td>\n",
       "      <td>52.48</td>\n",
       "      <td>Mount Hagen instant organic coffee is organica...</td>\n",
       "      <td>https://m.media-amazon.com/images/I/41-rS8+JUZ...</td>\n",
       "      <td>Mount Hagen Organic Freeze Dried Instant Coffe...</td>\n",
       "      <td>https://www.amazon.com/Mount-Hagen-Organic-Ins...</td>\n",
       "      <td>...</td>\n",
       "      <td>75.2</td>\n",
       "      <td>True</td>\n",
       "      <td>2.35 /  Ounce</td>\n",
       "      <td>2.48 /  Ounce</td>\n",
       "      <td>49.86</td>\n",
       "      <td>52.48</td>\n",
       "      <td>2.48</td>\n",
       "      <td>Ounce</td>\n",
       "      <td>2.35</td>\n",
       "      <td>Ounce</td>\n",
       "    </tr>\n",
       "    <tr>\n",
       "      <th>B000W7PUMY</th>\n",
       "      <td>Amazon product</td>\n",
       "      <td>Ships from and sold by Amazon.com</td>\n",
       "      <td>False</td>\n",
       "      <td>0</td>\n",
       "      <td>MAXWELL HOUSE</td>\n",
       "      <td>32.16</td>\n",
       "      <td>Maxwell House Instant Coffee, 2-Ounce Jars (Pa...</td>\n",
       "      <td>https://m.media-amazon.com/images/I/81f03jLw9T...</td>\n",
       "      <td>Maxwell House Original Medium Roast Instant Co...</td>\n",
       "      <td>https://www.amazon.com/Maxwell-House-Instant-C...</td>\n",
       "      <td>...</td>\n",
       "      <td>84.8</td>\n",
       "      <td>True</td>\n",
       "      <td>1.14 /  Ounce</td>\n",
       "      <td>1.27 /  Ounce</td>\n",
       "      <td>27.34</td>\n",
       "      <td>30.55</td>\n",
       "      <td>1.27</td>\n",
       "      <td>Ounce</td>\n",
       "      <td>1.14</td>\n",
       "      <td>Ounce</td>\n",
       "    </tr>\n",
       "    <tr>\n",
       "      <th>B000WE5DPQ</th>\n",
       "      <td>FBA</td>\n",
       "      <td>Auto-deliveries sold by TA National Trading an...</td>\n",
       "      <td>True</td>\n",
       "      <td>8</td>\n",
       "      <td>Big Train</td>\n",
       "      <td>23.94</td>\n",
       "      <td>Big Train Blended Ice Coffee Iced Coffee Mix V...</td>\n",
       "      <td>https://m.media-amazon.com/images/I/91civ4ozk9...</td>\n",
       "      <td>Big Train Blended Ice Coffee Iced Coffee Mix V...</td>\n",
       "      <td>https://www.amazon.com/Big-Train-Blended-Coffe...</td>\n",
       "      <td>...</td>\n",
       "      <td>57.6</td>\n",
       "      <td>True</td>\n",
       "      <td>0.47 /  Ounce</td>\n",
       "      <td>0.50 /  Ounce</td>\n",
       "      <td>22.74</td>\n",
       "      <td>23.94</td>\n",
       "      <td>0.50</td>\n",
       "      <td>Ounce</td>\n",
       "      <td>0.47</td>\n",
       "      <td>Ounce</td>\n",
       "    </tr>\n",
       "    <tr>\n",
       "      <th>B0014CVF98</th>\n",
       "      <td>Amazon product</td>\n",
       "      <td>Ships from and sold by Amazon.com</td>\n",
       "      <td>False</td>\n",
       "      <td>4</td>\n",
       "      <td>Folgers</td>\n",
       "      <td>4.94</td>\n",
       "      <td>The classic Folgers taste you love is availabl...</td>\n",
       "      <td>https://m.media-amazon.com/images/I/81+lL2oew3...</td>\n",
       "      <td>Folgers Classic Roast, Instant Coffee Crystals...</td>\n",
       "      <td>https://www.amazon.com/Folgers-Classic-Instant...</td>\n",
       "      <td>...</td>\n",
       "      <td>10.4</td>\n",
       "      <td>True</td>\n",
       "      <td>0.53 /  Ounce</td>\n",
       "      <td>0.59 /  Ounce</td>\n",
       "      <td>4.20</td>\n",
       "      <td>4.69</td>\n",
       "      <td>0.59</td>\n",
       "      <td>Ounce</td>\n",
       "      <td>0.53</td>\n",
       "      <td>Ounce</td>\n",
       "    </tr>\n",
       "    <tr>\n",
       "      <th>...</th>\n",
       "      <td>...</td>\n",
       "      <td>...</td>\n",
       "      <td>...</td>\n",
       "      <td>...</td>\n",
       "      <td>...</td>\n",
       "      <td>...</td>\n",
       "      <td>...</td>\n",
       "      <td>...</td>\n",
       "      <td>...</td>\n",
       "      <td>...</td>\n",
       "      <td>...</td>\n",
       "      <td>...</td>\n",
       "      <td>...</td>\n",
       "      <td>...</td>\n",
       "      <td>...</td>\n",
       "      <td>...</td>\n",
       "      <td>...</td>\n",
       "      <td>...</td>\n",
       "      <td>...</td>\n",
       "      <td>...</td>\n",
       "      <td>...</td>\n",
       "    </tr>\n",
       "    <tr>\n",
       "      <th>B082VKYZTR</th>\n",
       "      <td>FBA</td>\n",
       "      <td>Auto-deliveries sold by Waka Coffee and Fulfil...</td>\n",
       "      <td>False</td>\n",
       "      <td>5</td>\n",
       "      <td>Waka Coffee</td>\n",
       "      <td>11.99</td>\n",
       "      <td>NaN</td>\n",
       "      <td>https://m.media-amazon.com/images/I/61lamwjCQM...</td>\n",
       "      <td>Waka Coffee Quality Instant Coffee, Indian, Li...</td>\n",
       "      <td>https://www.amazon.com/Waka-Coffee-Quality-Ins...</td>\n",
       "      <td>...</td>\n",
       "      <td>1.6</td>\n",
       "      <td>True</td>\n",
       "      <td>12.74 /  Ounce</td>\n",
       "      <td>13.49 /  Ounce</td>\n",
       "      <td>10.19</td>\n",
       "      <td>10.79</td>\n",
       "      <td>13.49</td>\n",
       "      <td>Ounce</td>\n",
       "      <td>12.74</td>\n",
       "      <td>Ounce</td>\n",
       "    </tr>\n",
       "    <tr>\n",
       "      <th>B082XKWNTM</th>\n",
       "      <td>FBA</td>\n",
       "      <td>Auto-deliveries sold by VitaCup and Fulfilled ...</td>\n",
       "      <td>False</td>\n",
       "      <td>11</td>\n",
       "      <td>VitaCup</td>\n",
       "      <td>28.95</td>\n",
       "      <td>NaN</td>\n",
       "      <td>https://m.media-amazon.com/images/I/81FMofEa-A...</td>\n",
       "      <td>VitaCup Genius Instant Coffee Stick | Energy &amp;...</td>\n",
       "      <td>https://www.amazon.com/VitaCup-Instant-Turmeri...</td>\n",
       "      <td>...</td>\n",
       "      <td>3.8</td>\n",
       "      <td>True</td>\n",
       "      <td>1.03 /  Count</td>\n",
       "      <td>1.09 /  Count</td>\n",
       "      <td>24.61</td>\n",
       "      <td>26.06</td>\n",
       "      <td>1.09</td>\n",
       "      <td>Count</td>\n",
       "      <td>1.03</td>\n",
       "      <td>Count</td>\n",
       "    </tr>\n",
       "    <tr>\n",
       "      <th>B08376RLW6</th>\n",
       "      <td>FBA</td>\n",
       "      <td>Auto-deliveries sold by VitaCup and Fulfilled ...</td>\n",
       "      <td>True</td>\n",
       "      <td>15</td>\n",
       "      <td>VitaCup</td>\n",
       "      <td>14.95</td>\n",
       "      <td>NaN</td>\n",
       "      <td>https://m.media-amazon.com/images/I/81nu9WU7tX...</td>\n",
       "      <td>VitaCup Slim Instant Coffee Sticks | Diet &amp; Me...</td>\n",
       "      <td>https://www.amazon.com/VitaCup-Metabolism-Garc...</td>\n",
       "      <td>...</td>\n",
       "      <td>1.8</td>\n",
       "      <td>True</td>\n",
       "      <td>1.27 /  Count</td>\n",
       "      <td>1.35 /  Count</td>\n",
       "      <td>12.71</td>\n",
       "      <td>13.46</td>\n",
       "      <td>1.35</td>\n",
       "      <td>Count</td>\n",
       "      <td>1.27</td>\n",
       "      <td>Count</td>\n",
       "    </tr>\n",
       "    <tr>\n",
       "      <th>B0848T9CM5</th>\n",
       "      <td>FBA</td>\n",
       "      <td>Auto-deliveries sold by THE ELIXIR and Fulfill...</td>\n",
       "      <td>True</td>\n",
       "      <td>0</td>\n",
       "      <td>The Elixir</td>\n",
       "      <td>8.99</td>\n",
       "      <td>Famous Korean Instant coffee mix that offers d...</td>\n",
       "      <td>https://m.media-amazon.com/images/I/71ZBlvIp1x...</td>\n",
       "      <td>Korean Instant Coffee Variety Sample Pack Pack...</td>\n",
       "      <td>https://www.amazon.com/Instant-Variety-Packets...</td>\n",
       "      <td>...</td>\n",
       "      <td>11.2</td>\n",
       "      <td>True</td>\n",
       "      <td>0.43 /  Count</td>\n",
       "      <td>0.45 /  Count</td>\n",
       "      <td>8.54</td>\n",
       "      <td>8.99</td>\n",
       "      <td>0.45</td>\n",
       "      <td>Count</td>\n",
       "      <td>0.43</td>\n",
       "      <td>Count</td>\n",
       "    </tr>\n",
       "    <tr>\n",
       "      <th>B085ZL9GX6</th>\n",
       "      <td>FBA</td>\n",
       "      <td>Auto-deliveries sold by TheGroupDeal and Fulfi...</td>\n",
       "      <td>False</td>\n",
       "      <td>0</td>\n",
       "      <td>Grateful Earth</td>\n",
       "      <td>45.99</td>\n",
       "      <td>NaN</td>\n",
       "      <td>https://m.media-amazon.com/images/I/71b3+eBknV...</td>\n",
       "      <td>Grateful Earth: Super Brain Blend Instant Coff...</td>\n",
       "      <td>https://www.amazon.com/Grateful-Earth-Non-Dair...</td>\n",
       "      <td>...</td>\n",
       "      <td>14.4</td>\n",
       "      <td>True</td>\n",
       "      <td>2.18 /  Count</td>\n",
       "      <td>2.30 /  Count</td>\n",
       "      <td>43.69</td>\n",
       "      <td>45.99</td>\n",
       "      <td>2.30</td>\n",
       "      <td>Count</td>\n",
       "      <td>2.18</td>\n",
       "      <td>Count</td>\n",
       "    </tr>\n",
       "  </tbody>\n",
       "</table>\n",
       "<p>141 rows × 32 columns</p>\n",
       "</div>"
      ],
      "text/plain": [
       "                 FBA_label                                                FBA  \\\n",
       "ASIN                                                                            \n",
       "B000BKGPVM             FBA  Auto-deliveries sold by Cadima Rani and Fulfil...   \n",
       "B000ESJR20             FBA  Auto-deliveries sold by Vitamins4Beauty and Fu...   \n",
       "B000W7PUMY  Amazon product                  Ships from and sold by Amazon.com   \n",
       "B000WE5DPQ             FBA  Auto-deliveries sold by TA National Trading an...   \n",
       "B0014CVF98  Amazon product                  Ships from and sold by Amazon.com   \n",
       "...                    ...                                                ...   \n",
       "B082VKYZTR             FBA  Auto-deliveries sold by Waka Coffee and Fulfil...   \n",
       "B082XKWNTM             FBA  Auto-deliveries sold by VitaCup and Fulfilled ...   \n",
       "B08376RLW6             FBA  Auto-deliveries sold by VitaCup and Fulfilled ...   \n",
       "B0848T9CM5             FBA  Auto-deliveries sold by THE ELIXIR and Fulfill...   \n",
       "B085ZL9GX6             FBA  Auto-deliveries sold by TheGroupDeal and Fulfi...   \n",
       "\n",
       "            amazon_choice  answered_questions           brand  \\\n",
       "ASIN                                                            \n",
       "B000BKGPVM          False                   0       Big Train   \n",
       "B000ESJR20           True                  26     Mount Hagen   \n",
       "B000W7PUMY          False                   0   MAXWELL HOUSE   \n",
       "B000WE5DPQ           True                   8       Big Train   \n",
       "B0014CVF98          False                   4         Folgers   \n",
       "...                   ...                 ...             ...   \n",
       "B082VKYZTR          False                   5     Waka Coffee   \n",
       "B082XKWNTM          False                  11         VitaCup   \n",
       "B08376RLW6           True                  15         VitaCup   \n",
       "B0848T9CM5           True                   0      The Elixir   \n",
       "B085ZL9GX6          False                   0  Grateful Earth   \n",
       "\n",
       "            price_in_US_dollars  \\\n",
       "ASIN                              \n",
       "B000BKGPVM                35.00   \n",
       "B000ESJR20                52.48   \n",
       "B000W7PUMY                32.16   \n",
       "B000WE5DPQ                23.94   \n",
       "B0014CVF98                 4.94   \n",
       "...                         ...   \n",
       "B082VKYZTR                11.99   \n",
       "B082XKWNTM                28.95   \n",
       "B08376RLW6                14.95   \n",
       "B0848T9CM5                 8.99   \n",
       "B085ZL9GX6                45.99   \n",
       "\n",
       "                                           productDescription  \\\n",
       "ASIN                                                            \n",
       "B000BKGPVM                       Big train Powdered Drink Mix   \n",
       "B000ESJR20  Mount Hagen instant organic coffee is organica...   \n",
       "B000W7PUMY  Maxwell House Instant Coffee, 2-Ounce Jars (Pa...   \n",
       "B000WE5DPQ  Big Train Blended Ice Coffee Iced Coffee Mix V...   \n",
       "B0014CVF98  The classic Folgers taste you love is availabl...   \n",
       "...                                                       ...   \n",
       "B082VKYZTR                                                NaN   \n",
       "B082XKWNTM                                                NaN   \n",
       "B08376RLW6                                                NaN   \n",
       "B0848T9CM5  Famous Korean Instant coffee mix that offers d...   \n",
       "B085ZL9GX6                                                NaN   \n",
       "\n",
       "                                           product_image_urls  \\\n",
       "ASIN                                                            \n",
       "B000BKGPVM  https://m.media-amazon.com/images/I/910Rjx5vxJ...   \n",
       "B000ESJR20  https://m.media-amazon.com/images/I/41-rS8+JUZ...   \n",
       "B000W7PUMY  https://m.media-amazon.com/images/I/81f03jLw9T...   \n",
       "B000WE5DPQ  https://m.media-amazon.com/images/I/91civ4ozk9...   \n",
       "B0014CVF98  https://m.media-amazon.com/images/I/81+lL2oew3...   \n",
       "...                                                       ...   \n",
       "B082VKYZTR  https://m.media-amazon.com/images/I/61lamwjCQM...   \n",
       "B082XKWNTM  https://m.media-amazon.com/images/I/81FMofEa-A...   \n",
       "B08376RLW6  https://m.media-amazon.com/images/I/81nu9WU7tX...   \n",
       "B0848T9CM5  https://m.media-amazon.com/images/I/71ZBlvIp1x...   \n",
       "B085ZL9GX6  https://m.media-amazon.com/images/I/71b3+eBknV...   \n",
       "\n",
       "                                                 product_name  \\\n",
       "ASIN                                                            \n",
       "B000BKGPVM  Big Train Blended Iced Coffee - Toffee Mocha (...   \n",
       "B000ESJR20  Mount Hagen Organic Freeze Dried Instant Coffe...   \n",
       "B000W7PUMY  Maxwell House Original Medium Roast Instant Co...   \n",
       "B000WE5DPQ  Big Train Blended Ice Coffee Iced Coffee Mix V...   \n",
       "B0014CVF98  Folgers Classic Roast, Instant Coffee Crystals...   \n",
       "...                                                       ...   \n",
       "B082VKYZTR  Waka Coffee Quality Instant Coffee, Indian, Li...   \n",
       "B082XKWNTM  VitaCup Genius Instant Coffee Stick | Energy &...   \n",
       "B08376RLW6  VitaCup Slim Instant Coffee Sticks | Diet & Me...   \n",
       "B0848T9CM5  Korean Instant Coffee Variety Sample Pack Pack...   \n",
       "B085ZL9GX6  Grateful Earth: Super Brain Blend Instant Coff...   \n",
       "\n",
       "                                                  product_url  ...  \\\n",
       "ASIN                                                           ...   \n",
       "B000BKGPVM  https://www.amazon.com/Big-Train-Blended-Iced-...  ...   \n",
       "B000ESJR20  https://www.amazon.com/Mount-Hagen-Organic-Ins...  ...   \n",
       "B000W7PUMY  https://www.amazon.com/Maxwell-House-Instant-C...  ...   \n",
       "B000WE5DPQ  https://www.amazon.com/Big-Train-Blended-Coffe...  ...   \n",
       "B0014CVF98  https://www.amazon.com/Folgers-Classic-Instant...  ...   \n",
       "...                                                       ...  ...   \n",
       "B082VKYZTR  https://www.amazon.com/Waka-Coffee-Quality-Ins...  ...   \n",
       "B082XKWNTM  https://www.amazon.com/VitaCup-Instant-Turmeri...  ...   \n",
       "B08376RLW6  https://www.amazon.com/VitaCup-Metabolism-Garc...  ...   \n",
       "B0848T9CM5  https://www.amazon.com/Instant-Variety-Packets...  ...   \n",
       "B085ZL9GX6  https://www.amazon.com/Grateful-Earth-Non-Dair...  ...   \n",
       "\n",
       "            shipping_weight_in_ounces  subscribe_flag  \\\n",
       "ASIN                                                    \n",
       "B000BKGPVM                       57.6            True   \n",
       "B000ESJR20                       75.2            True   \n",
       "B000W7PUMY                       84.8            True   \n",
       "B000WE5DPQ                       57.6            True   \n",
       "B0014CVF98                       10.4            True   \n",
       "...                               ...             ...   \n",
       "B082VKYZTR                        1.6            True   \n",
       "B082XKWNTM                        3.8            True   \n",
       "B08376RLW6                        1.8            True   \n",
       "B0848T9CM5                       11.2            True   \n",
       "B085ZL9GX6                       14.4            True   \n",
       "\n",
       "            subscribe_price_15per_unit_price  subscribe_price_5per_unit_price  \\\n",
       "ASIN                                                                            \n",
       "B000BKGPVM                     0.46 /  Ounce                    0.48 /  Ounce   \n",
       "B000ESJR20                     2.35 /  Ounce                    2.48 /  Ounce   \n",
       "B000W7PUMY                     1.14 /  Ounce                    1.27 /  Ounce   \n",
       "B000WE5DPQ                     0.47 /  Ounce                    0.50 /  Ounce   \n",
       "B0014CVF98                     0.53 /  Ounce                    0.59 /  Ounce   \n",
       "...                                      ...                              ...   \n",
       "B082VKYZTR                    12.74 /  Ounce                   13.49 /  Ounce   \n",
       "B082XKWNTM                     1.03 /  Count                    1.09 /  Count   \n",
       "B08376RLW6                     1.27 /  Count                    1.35 /  Count   \n",
       "B0848T9CM5                     0.43 /  Count                    0.45 /  Count   \n",
       "B085ZL9GX6                     2.18 /  Count                    2.30 /  Count   \n",
       "\n",
       "            subscribe_price_15per_USdollars  subscribe_price_5per_USdollars  \\\n",
       "ASIN                                                                          \n",
       "B000BKGPVM                            25.64                           27.07   \n",
       "B000ESJR20                            49.86                           52.48   \n",
       "B000W7PUMY                            27.34                           30.55   \n",
       "B000WE5DPQ                            22.74                           23.94   \n",
       "B0014CVF98                             4.20                            4.69   \n",
       "...                                     ...                             ...   \n",
       "B082VKYZTR                            10.19                           10.79   \n",
       "B082XKWNTM                            24.61                           26.06   \n",
       "B08376RLW6                            12.71                           13.46   \n",
       "B0848T9CM5                             8.54                            8.99   \n",
       "B085ZL9GX6                            43.69                           45.99   \n",
       "\n",
       "            subscribe_5_unitprice subscribe_5_unit subscribe_15_unitprice  \\\n",
       "ASIN                                                                        \n",
       "B000BKGPVM                   0.48            Ounce                   0.46   \n",
       "B000ESJR20                   2.48            Ounce                   2.35   \n",
       "B000W7PUMY                   1.27            Ounce                   1.14   \n",
       "B000WE5DPQ                   0.50            Ounce                   0.47   \n",
       "B0014CVF98                   0.59            Ounce                   0.53   \n",
       "...                           ...              ...                    ...   \n",
       "B082VKYZTR                  13.49            Ounce                  12.74   \n",
       "B082XKWNTM                   1.09            Count                   1.03   \n",
       "B08376RLW6                   1.35            Count                   1.27   \n",
       "B0848T9CM5                   0.45            Count                   0.43   \n",
       "B085ZL9GX6                   2.30            Count                   2.18   \n",
       "\n",
       "           subscribe_15_unit  \n",
       "ASIN                          \n",
       "B000BKGPVM             Ounce  \n",
       "B000ESJR20             Ounce  \n",
       "B000W7PUMY             Ounce  \n",
       "B000WE5DPQ             Ounce  \n",
       "B0014CVF98             Ounce  \n",
       "...                      ...  \n",
       "B082VKYZTR             Ounce  \n",
       "B082XKWNTM             Count  \n",
       "B08376RLW6             Count  \n",
       "B0848T9CM5             Count  \n",
       "B085ZL9GX6             Count  \n",
       "\n",
       "[141 rows x 32 columns]"
      ]
     },
     "execution_count": 34,
     "metadata": {},
     "output_type": "execute_result"
    }
   ],
   "source": [
    "coffee[coffee.subscribe_flag==True]"
   ]
  },
  {
   "cell_type": "code",
   "execution_count": 35,
   "metadata": {},
   "outputs": [],
   "source": [
    "coffee['unit_price2']=np.where((coffee['unit_price'].str.contains('\\)')) & (coffee['unit_price'].str.contains('\\(')),coffee['unit_price'],\"\")"
   ]
  },
  {
   "cell_type": "code",
   "execution_count": 36,
   "metadata": {},
   "outputs": [],
   "source": [
    "coffee['unit_price2']=coffee['unit_price2'].astype('str').str.replace('(','').str.replace(')','').str.replace('$','').str.replace(',','')\n",
    "coffee[['unit_price_USdollars','unit_price_unit']] = coffee['unit_price2'].str.split(\" / \",expand=True)\n",
    "coffee['unit_price_USdollars']=coffee['unit_price_USdollars'].replace('',np.nan).astype('float')"
   ]
  },
  {
   "cell_type": "code",
   "execution_count": 37,
   "metadata": {},
   "outputs": [],
   "source": [
    "coffee['unit_price_flag']=(~coffee.unit_price_USdollars.isnull())"
   ]
  },
  {
   "cell_type": "code",
   "execution_count": 38,
   "metadata": {
    "collapsed": true
   },
   "outputs": [
    {
     "data": {
      "text/plain": [
       "['FBA_label',\n",
       " 'FBA',\n",
       " 'amazon_choice',\n",
       " 'answered_questions',\n",
       " 'brand',\n",
       " 'price_in_US_dollars',\n",
       " 'productDescription',\n",
       " 'product_image_urls',\n",
       " 'product_name',\n",
       " 'product_url',\n",
       " 'rating_1_star',\n",
       " 'rating_2_star',\n",
       " 'rating_3_star',\n",
       " 'rating_4_star',\n",
       " 'rating_5_star',\n",
       " 'rating_avg',\n",
       " 'rating_nums',\n",
       " 'shipping_weight',\n",
       " 'subscribe',\n",
       " 'subscribe_price_5per',\n",
       " 'top_sales_rank',\n",
       " 'unit_price',\n",
       " 'shipping_weight_in_ounces',\n",
       " 'subscribe_flag',\n",
       " 'subscribe_price_15per_unit_price',\n",
       " 'subscribe_price_5per_unit_price',\n",
       " 'subscribe_price_15per_USdollars',\n",
       " 'subscribe_price_5per_USdollars',\n",
       " 'subscribe_5_unitprice',\n",
       " 'subscribe_5_unit',\n",
       " 'subscribe_15_unitprice',\n",
       " 'subscribe_15_unit',\n",
       " 'unit_price2',\n",
       " 'unit_price_USdollars',\n",
       " 'unit_price_unit',\n",
       " 'unit_price_flag']"
      ]
     },
     "execution_count": 38,
     "metadata": {},
     "output_type": "execute_result"
    }
   ],
   "source": [
    "coffee.columns.tolist()"
   ]
  },
  {
   "cell_type": "code",
   "execution_count": 39,
   "metadata": {},
   "outputs": [
    {
     "name": "stdout",
     "output_type": "stream",
     "text": [
      "[None 'Item' 'Ounce' 'oz' 'Count' 'Gram' 'kg' 'Pound' '100 g' 'in' 'Fl Oz'\n",
      " '10 Items']\n"
     ]
    }
   ],
   "source": [
    "print (coffee['unit_price_unit'].unique())"
   ]
  },
  {
   "cell_type": "code",
   "execution_count": null,
   "metadata": {},
   "outputs": [],
   "source": []
  },
  {
   "cell_type": "code",
   "execution_count": 40,
   "metadata": {},
   "outputs": [],
   "source": [
    "di={'pound':16,'gram':0.035274,'kg':35.274,'100 g':3.5274,'10 items':10}\n",
    "di2={'pound':'Ounce','gram':'Ounce','kg':'ounce','100 g':'Ounce','10 items':'item','oz':'Ounce','ounce':'ounce','item':'item'}\n",
    "\n",
    "for key,val in di.items():\n",
    "    coffee['unit_price_USdollars'] = np.where(coffee['unit_price_unit'].str.lower()==key,round(coffee['unit_price_USdollars']/val,2),coffee['unit_price_USdollars'])\n",
    "\n",
    "for key,val in di2.items():\n",
    "    coffee['unit_price_unit'] = np.where(coffee['unit_price_unit'].str.strip().str.lower()==key,val,coffee['unit_price_unit'])\n"
   ]
  },
  {
   "cell_type": "code",
   "execution_count": 41,
   "metadata": {},
   "outputs": [
    {
     "name": "stdout",
     "output_type": "stream",
     "text": [
      "[None 'item' 'ounce' 'Count' 'in' 'Fl Oz']\n"
     ]
    }
   ],
   "source": [
    "print (coffee['unit_price_unit'].unique())"
   ]
  },
  {
   "cell_type": "code",
   "execution_count": 42,
   "metadata": {},
   "outputs": [],
   "source": [
    "coffee['brand']=np.where(coffee['brand'].str.lower()=='nescafe taster\\'s choice','Nescafé',coffee['brand'])\n",
    "coffee['brand']=np.where(coffee['brand'].str.lower()=='taster\\'s choice','Nescafé',coffee['brand'])\n",
    "coffee['brand']=np.where(coffee['brand'].str.lower()=='nescafe coffee','Nescafé',coffee['brand'])"
   ]
  },
  {
   "cell_type": "code",
   "execution_count": 43,
   "metadata": {},
   "outputs": [],
   "source": [
    "coffee_cleaned=coffee[['product_name','brand','FBA_label','amazon_choice','price_in_US_dollars','unit_price_flag','unit_price_USdollars',\\\n",
    "                       'unit_price_unit',\\\n",
    "                      'top_sales_rank','subscribe_flag','shipping_weight_in_ounces','answered_questions','rating_avg',\\\n",
    "                      'rating_nums','rating_1_star','rating_2_star','rating_3_star','rating_4_star','rating_5_star','subscribe_5_unitprice',\\\n",
    "                      'subscribe_5_unit','subscribe_15_unitprice','subscribe_15_unit','unit_price2','unit_price','FBA','productDescription',\\\n",
    "                      'product_image_urls','product_url','subscribe','subscribe_price_5per','shipping_weight','subscribe_price_15per_unit_price',\\\n",
    "                      'subscribe_price_5per_unit_price','subscribe_price_15per_USdollars','subscribe_price_5per_USdollars']]"
   ]
  },
  {
   "cell_type": "code",
   "execution_count": 44,
   "metadata": {},
   "outputs": [],
   "source": [
    "coffee_for_analysis=coffee[['product_name','brand','FBA_label','amazon_choice','price_in_US_dollars','unit_price_flag','unit_price_USdollars',\\\n",
    "                      'unit_price_unit','top_sales_rank','subscribe_flag','shipping_weight_in_ounces','answered_questions','rating_avg',\\\n",
    "                      'rating_nums','rating_1_star','rating_2_star','rating_3_star','rating_4_star','rating_5_star','subscribe_5_unitprice',\\\n",
    "                      'subscribe_5_unit','subscribe_15_unitprice','subscribe_15_unit']]"
   ]
  },
  {
   "cell_type": "code",
   "execution_count": 45,
   "metadata": {},
   "outputs": [
    {
     "data": {
      "text/plain": [
       "36"
      ]
     },
     "execution_count": 45,
     "metadata": {},
     "output_type": "execute_result"
    },
    {
     "data": {
      "text/plain": [
       "36"
      ]
     },
     "execution_count": 45,
     "metadata": {},
     "output_type": "execute_result"
    },
    {
     "data": {
      "text/plain": [
       "23"
      ]
     },
     "execution_count": 45,
     "metadata": {},
     "output_type": "execute_result"
    }
   ],
   "source": [
    "len(coffee_cleaned.columns)\n",
    "len(coffee.columns)\n",
    "len(coffee_for_analysis.columns)"
   ]
  },
  {
   "cell_type": "code",
   "execution_count": 46,
   "metadata": {},
   "outputs": [],
   "source": [
    "coffee_for_analysis.to_csv('coffee_for_analysis.csv')\n",
    "coffee_cleaned.to_csv('coffee_cleaned_data.csv')"
   ]
  },
  {
   "cell_type": "code",
   "execution_count": 84,
   "metadata": {},
   "outputs": [
    {
     "data": {
      "text/plain": [
       "4369"
      ]
     },
     "execution_count": 84,
     "metadata": {},
     "output_type": "execute_result"
    },
    {
     "data": {
      "text/plain": [
       "23"
      ]
     },
     "execution_count": 84,
     "metadata": {},
     "output_type": "execute_result"
    }
   ],
   "source": [
    "# coffee_for_analysis.columns.tolist()\n",
    "len(coffee_for_analysis)\n",
    "len(coffee_for_analysis.columns)"
   ]
  },
  {
   "cell_type": "markdown",
   "metadata": {},
   "source": [
    "## Exploratory Data Analysis"
   ]
  },
  {
   "cell_type": "code",
   "execution_count": 48,
   "metadata": {},
   "outputs": [],
   "source": [
    "from matplotlib import pyplot as plt\n",
    "plt.style.use('ggplot')"
   ]
  },
  {
   "cell_type": "code",
   "execution_count": 49,
   "metadata": {},
   "outputs": [],
   "source": [
    "# print (coffee_top100['brand'].unique())"
   ]
  },
  {
   "cell_type": "code",
   "execution_count": 50,
   "metadata": {
    "scrolled": true
   },
   "outputs": [
    {
     "data": {
      "text/plain": [
       "<Figure size 864x432 with 0 Axes>"
      ]
     },
     "execution_count": 50,
     "metadata": {},
     "output_type": "execute_result"
    },
    {
     "data": {
      "text/plain": [
       "Text(0.5, 1.0, 'Top 100 Best Sellers in Instant Coffee by Brand')"
      ]
     },
     "execution_count": 50,
     "metadata": {},
     "output_type": "execute_result"
    },
    {
     "data": {
      "text/plain": [
       "Text(0.5, 0, 'Number of Top 100 Best Selling Items')"
      ]
     },
     "execution_count": 50,
     "metadata": {},
     "output_type": "execute_result"
    },
    {
     "data": {
      "text/plain": [
       "Text(0, 0.5, 'Brand Name')"
      ]
     },
     "execution_count": 50,
     "metadata": {},
     "output_type": "execute_result"
    },
    {
     "data": {
      "text/plain": [
       "<matplotlib.legend.Legend at 0x7fd00b6d8c70>"
      ]
     },
     "execution_count": 50,
     "metadata": {},
     "output_type": "execute_result"
    },
    {
     "data": {
      "text/plain": [
       "Text(5, 0, '1')"
      ]
     },
     "execution_count": 50,
     "metadata": {},
     "output_type": "execute_result"
    },
    {
     "data": {
      "text/plain": [
       "Text(5, 0, '1')"
      ]
     },
     "execution_count": 50,
     "metadata": {},
     "output_type": "execute_result"
    },
    {
     "data": {
      "text/plain": [
       "Text(5, 0, '1')"
      ]
     },
     "execution_count": 50,
     "metadata": {},
     "output_type": "execute_result"
    },
    {
     "data": {
      "text/plain": [
       "Text(5, 0, '1')"
      ]
     },
     "execution_count": 50,
     "metadata": {},
     "output_type": "execute_result"
    },
    {
     "data": {
      "text/plain": [
       "Text(5, 0, '1')"
      ]
     },
     "execution_count": 50,
     "metadata": {},
     "output_type": "execute_result"
    },
    {
     "data": {
      "text/plain": [
       "Text(5, 0, '1')"
      ]
     },
     "execution_count": 50,
     "metadata": {},
     "output_type": "execute_result"
    },
    {
     "data": {
      "text/plain": [
       "Text(5, 0, '1')"
      ]
     },
     "execution_count": 50,
     "metadata": {},
     "output_type": "execute_result"
    },
    {
     "data": {
      "text/plain": [
       "Text(5, 0, '1')"
      ]
     },
     "execution_count": 50,
     "metadata": {},
     "output_type": "execute_result"
    },
    {
     "data": {
      "text/plain": [
       "Text(5, 0, '1')"
      ]
     },
     "execution_count": 50,
     "metadata": {},
     "output_type": "execute_result"
    },
    {
     "data": {
      "text/plain": [
       "Text(5, 0, '1')"
      ]
     },
     "execution_count": 50,
     "metadata": {},
     "output_type": "execute_result"
    },
    {
     "data": {
      "text/plain": [
       "Text(5, 0, '1')"
      ]
     },
     "execution_count": 50,
     "metadata": {},
     "output_type": "execute_result"
    },
    {
     "data": {
      "text/plain": [
       "Text(5, 0, '1')"
      ]
     },
     "execution_count": 50,
     "metadata": {},
     "output_type": "execute_result"
    },
    {
     "data": {
      "text/plain": [
       "Text(5, 0, '1')"
      ]
     },
     "execution_count": 50,
     "metadata": {},
     "output_type": "execute_result"
    },
    {
     "data": {
      "text/plain": [
       "Text(5, 0, '1')"
      ]
     },
     "execution_count": 50,
     "metadata": {},
     "output_type": "execute_result"
    },
    {
     "data": {
      "text/plain": [
       "Text(5, 0, '1')"
      ]
     },
     "execution_count": 50,
     "metadata": {},
     "output_type": "execute_result"
    },
    {
     "data": {
      "text/plain": [
       "Text(5, 0, '1')"
      ]
     },
     "execution_count": 50,
     "metadata": {},
     "output_type": "execute_result"
    },
    {
     "data": {
      "text/plain": [
       "Text(5, 0, '1')"
      ]
     },
     "execution_count": 50,
     "metadata": {},
     "output_type": "execute_result"
    },
    {
     "data": {
      "text/plain": [
       "Text(5, 0, '1')"
      ]
     },
     "execution_count": 50,
     "metadata": {},
     "output_type": "execute_result"
    },
    {
     "data": {
      "text/plain": [
       "Text(5, 0, '1')"
      ]
     },
     "execution_count": 50,
     "metadata": {},
     "output_type": "execute_result"
    },
    {
     "data": {
      "text/plain": [
       "Text(5, 0, '1')"
      ]
     },
     "execution_count": 50,
     "metadata": {},
     "output_type": "execute_result"
    },
    {
     "data": {
      "text/plain": [
       "Text(5, 0, '1')"
      ]
     },
     "execution_count": 50,
     "metadata": {},
     "output_type": "execute_result"
    },
    {
     "data": {
      "text/plain": [
       "Text(5, 0, '1')"
      ]
     },
     "execution_count": 50,
     "metadata": {},
     "output_type": "execute_result"
    },
    {
     "data": {
      "text/plain": [
       "Text(5, 0, '1')"
      ]
     },
     "execution_count": 50,
     "metadata": {},
     "output_type": "execute_result"
    },
    {
     "data": {
      "text/plain": [
       "Text(5, 0, '2')"
      ]
     },
     "execution_count": 50,
     "metadata": {},
     "output_type": "execute_result"
    },
    {
     "data": {
      "text/plain": [
       "Text(5, 0, '2')"
      ]
     },
     "execution_count": 50,
     "metadata": {},
     "output_type": "execute_result"
    },
    {
     "data": {
      "text/plain": [
       "Text(5, 0, '2')"
      ]
     },
     "execution_count": 50,
     "metadata": {},
     "output_type": "execute_result"
    },
    {
     "data": {
      "text/plain": [
       "Text(5, 0, '2')"
      ]
     },
     "execution_count": 50,
     "metadata": {},
     "output_type": "execute_result"
    },
    {
     "data": {
      "text/plain": [
       "Text(5, 0, '2')"
      ]
     },
     "execution_count": 50,
     "metadata": {},
     "output_type": "execute_result"
    },
    {
     "data": {
      "text/plain": [
       "Text(5, 0, '2')"
      ]
     },
     "execution_count": 50,
     "metadata": {},
     "output_type": "execute_result"
    },
    {
     "data": {
      "text/plain": [
       "Text(5, 0, '2')"
      ]
     },
     "execution_count": 50,
     "metadata": {},
     "output_type": "execute_result"
    },
    {
     "data": {
      "text/plain": [
       "Text(5, 0, '2')"
      ]
     },
     "execution_count": 50,
     "metadata": {},
     "output_type": "execute_result"
    },
    {
     "data": {
      "text/plain": [
       "Text(5, 0, '3')"
      ]
     },
     "execution_count": 50,
     "metadata": {},
     "output_type": "execute_result"
    },
    {
     "data": {
      "text/plain": [
       "Text(5, 0, '5')"
      ]
     },
     "execution_count": 50,
     "metadata": {},
     "output_type": "execute_result"
    },
    {
     "data": {
      "text/plain": [
       "Text(5, 0, '7')"
      ]
     },
     "execution_count": 50,
     "metadata": {},
     "output_type": "execute_result"
    },
    {
     "data": {
      "text/plain": [
       "Text(5, 0, '9')"
      ]
     },
     "execution_count": 50,
     "metadata": {},
     "output_type": "execute_result"
    },
    {
     "data": {
      "text/plain": [
       "Text(5, 0, '12')"
      ]
     },
     "execution_count": 50,
     "metadata": {},
     "output_type": "execute_result"
    },
    {
     "data": {
      "text/plain": [
       "Text(5, 0, '15')"
      ]
     },
     "execution_count": 50,
     "metadata": {},
     "output_type": "execute_result"
    },
    {
     "data": {
      "image/png": "[encoded data removed]",
      "text/plain": [
       "<Figure size 864x432 with 1 Axes>"
      ]
     },
     "metadata": {},
     "output_type": "display_data"
    }
   ],
   "source": [
    "coffee_top100 = coffee_for_analysis[coffee_for_analysis['top_sales_rank']<=100]\n",
    "plt.figure(figsize=(12,6))\n",
    "bars=coffee_top100.groupby('brand')['brand'].count().sort_values(ascending=True).plot(kind='barh',color='b')\n",
    "bars.set_title('Top 100 Best Sellers in Instant Coffee by Brand')\n",
    "plt.xlabel('Number of Top 100 Best Selling Items')\n",
    "plt.ylabel('Brand Name')\n",
    "plt.legend()\n",
    "plt.tight_layout()\n",
    "\n",
    "rects=bars.patches\n",
    "\n",
    "# For each bar: Place a label\n",
    "for rect in rects:\n",
    "    # Get X and Y placement of label from rect.\n",
    "    x_value = rect.get_width()\n",
    "    y_value = rect.get_y() + rect.get_height() / 2\n",
    "\n",
    "    # Number of points between bar and label. Change to your liking.\n",
    "    space = 5\n",
    "    # Vertical alignment for positive values\n",
    "    ha = 'left'\n",
    "\n",
    "    # If value of bar is negative: Place label left of bar\n",
    "    if x_value < 0:\n",
    "        # Invert space to place label to the left\n",
    "        space *= -1\n",
    "        # Horizontally align label at right\n",
    "        ha = 'right'\n",
    "\n",
    "    # Use X value as label and format number with one decimal place\n",
    "    label = \"{:.0f}\".format(x_value)\n",
    "\n",
    "    # Create annotation\n",
    "    plt.annotate(\n",
    "        label,                      # Use `label` as label\n",
    "        (x_value, y_value),         # Place label at end of the bar\n",
    "        xytext=(space, 0),          # Horizontally shift label by `space`\n",
    "        textcoords=\"offset points\", # Interpret `xytext` as offset in points\n",
    "        va='center',                # Vertically center label\n",
    "        ha=ha)                      # Horizontally align label differently for\n",
    "                                    # positive and negative values.\n",
    "\n",
    "plt.savefig(\"image.png\")\n",
    "\n",
    "plt.show()"
   ]
  },
  {
   "cell_type": "code",
   "execution_count": 51,
   "metadata": {},
   "outputs": [],
   "source": [
    "import seaborn as sns"
   ]
  },
  {
   "cell_type": "code",
   "execution_count": 52,
   "metadata": {},
   "outputs": [
    {
     "data": {
      "text/plain": [
       "<Figure size 864x432 with 0 Axes>"
      ]
     },
     "execution_count": 52,
     "metadata": {},
     "output_type": "execute_result"
    },
    {
     "data": {
      "text/plain": [
       "<matplotlib.axes._subplots.AxesSubplot at 0x7fd00c9795e0>"
      ]
     },
     "execution_count": 52,
     "metadata": {},
     "output_type": "execute_result"
    },
    {
     "data": {
      "text/plain": [
       "<matplotlib.axes._subplots.AxesSubplot at 0x7fd00c9795e0>"
      ]
     },
     "execution_count": 52,
     "metadata": {},
     "output_type": "execute_result"
    },
    {
     "data": {
      "image/png": "[encoded data removed]",
      "text/plain": [
       "<Figure size 864x432 with 1 Axes>"
      ]
     },
     "metadata": {},
     "output_type": "display_data"
    }
   ],
   "source": [
    "plt.figure(figsize=(12,6))\n",
    "sns.distplot(coffee_for_analysis['rating_avg'])\n",
    "sns.kdeplot(coffee_for_analysis['rating_avg'], shade=True, label='Estimated PDF of instant coffee averge rating')"
   ]
  },
  {
   "cell_type": "code",
   "execution_count": 53,
   "metadata": {},
   "outputs": [
    {
     "data": {
      "text/plain": [
       "(array([57., 18.,  6.,  2.,  3.,  1.,  0.,  1.,  0.,  2.]),\n",
       " array([  15. ,  396.2,  777.4, 1158.6, 1539.8, 1921. , 2302.2, 2683.4,\n",
       "        3064.6, 3445.8, 3827. ]),\n",
       " <a list of 10 Patch objects>)"
      ]
     },
     "execution_count": 53,
     "metadata": {},
     "output_type": "execute_result"
    },
    {
     "data": {
      "image/png": "[encoded data removed]",
      "text/plain": [
       "<Figure size 432x288 with 1 Axes>"
      ]
     },
     "metadata": {},
     "output_type": "display_data"
    }
   ],
   "source": [
    "plt.hist(coffee_top100[coffee_top100.rating_nums>0]['rating_nums'],color=\"#5ee3ff\")"
   ]
  },
  {
   "cell_type": "code",
   "execution_count": 87,
   "metadata": {},
   "outputs": [
    {
     "data": {
      "text/plain": [
       "<Figure size 864x432 with 0 Axes>"
      ]
     },
     "execution_count": 87,
     "metadata": {},
     "output_type": "execute_result"
    },
    {
     "data": {
      "text/plain": [
       "<matplotlib.axes._subplots.AxesSubplot at 0x7fd00fd13610>"
      ]
     },
     "execution_count": 87,
     "metadata": {},
     "output_type": "execute_result"
    },
    {
     "data": {
      "text/plain": [
       "<matplotlib.axes._subplots.AxesSubplot at 0x7fd00fd13610>"
      ]
     },
     "execution_count": 87,
     "metadata": {},
     "output_type": "execute_result"
    },
    {
     "data": {
      "image/png": "[encoded data removed]",
      "text/plain": [
       "<Figure size 864x432 with 1 Axes>"
      ]
     },
     "metadata": {},
     "output_type": "display_data"
    }
   ],
   "source": [
    "plt.figure(figsize=(12,6))\n",
    "sns.distplot(coffee_for_analysis[coffee_for_analysis['rating_nums']>10]['rating_avg'])\n",
    "sns.kdeplot(coffee_for_analysis[coffee_for_analysis['rating_nums']>=10]['rating_avg'], shade=True, label='Estimated PDF of instant coffee averge rating(rating number>=10)')"
   ]
  },
  {
   "cell_type": "code",
   "execution_count": 55,
   "metadata": {},
   "outputs": [
    {
     "data": {
      "text/plain": [
       "<Figure size 864x432 with 0 Axes>"
      ]
     },
     "execution_count": 55,
     "metadata": {},
     "output_type": "execute_result"
    },
    {
     "data": {
      "text/plain": [
       "<matplotlib.axes._subplots.AxesSubplot at 0x7fd00cd6c760>"
      ]
     },
     "execution_count": 55,
     "metadata": {},
     "output_type": "execute_result"
    },
    {
     "data": {
      "text/plain": [
       "<matplotlib.axes._subplots.AxesSubplot at 0x7fd00cd6c760>"
      ]
     },
     "execution_count": 55,
     "metadata": {},
     "output_type": "execute_result"
    },
    {
     "data": {
      "image/png": "[encoded data removed]",
      "text/plain": [
       "<Figure size 864x432 with 1 Axes>"
      ]
     },
     "metadata": {},
     "output_type": "display_data"
    }
   ],
   "source": [
    "plt.figure(figsize=(12,6))\n",
    "sns.distplot(coffee_top100['rating_avg'])\n",
    "sns.kdeplot(coffee_top100['rating_avg'], shade=True, label='Estimated PDF of instant coffee averge rating(Top 100 best sellers)')"
   ]
  },
  {
   "cell_type": "code",
   "execution_count": 56,
   "metadata": {},
   "outputs": [
    {
     "data": {
      "text/plain": [
       "<seaborn.axisgrid.JointGrid at 0x7fd00cee8070>"
      ]
     },
     "execution_count": 56,
     "metadata": {},
     "output_type": "execute_result"
    },
    {
     "data": {
      "text/plain": [
       "<seaborn.axisgrid.JointGrid at 0x7fd00cc68970>"
      ]
     },
     "execution_count": 56,
     "metadata": {},
     "output_type": "execute_result"
    },
    {
     "data": {
      "image/png": "[encoded data removed]",
      "text/plain": [
       "<Figure size 432x432 with 3 Axes>"
      ]
     },
     "metadata": {},
     "output_type": "display_data"
    },
    {
     "data": {
      "image/png": "[encoded data removed]",
      "text/plain": [
       "<Figure size 432x432 with 3 Axes>"
      ]
     },
     "metadata": {},
     "output_type": "display_data"
    }
   ],
   "source": [
    "sns.jointplot(coffee_for_analysis['rating_nums'], coffee_for_analysis['rating_avg'])\n",
    "sns.jointplot(coffee_top100['rating_nums'], coffee_top100['rating_avg'])"
   ]
  },
  {
   "cell_type": "code",
   "execution_count": 57,
   "metadata": {},
   "outputs": [
    {
     "data": {
      "text/plain": [
       "ASIN\n",
       "5480451286    5878.0\n",
       "9748836843    4826.0\n",
       "B0001MAF1Q    1477.0\n",
       "B0001MAF2U    1604.0\n",
       "B0001MAF4S    2141.0\n",
       "               ...  \n",
       "B08DK8JNHC       NaN\n",
       "B08DK93YN8       NaN\n",
       "B08DKK7N9Y       NaN\n",
       "B08DKK8WKS       NaN\n",
       "B08DKQLWTM       NaN\n",
       "Name: top_sales_rank, Length: 4369, dtype: float64"
      ]
     },
     "execution_count": 57,
     "metadata": {},
     "output_type": "execute_result"
    },
    {
     "name": "stderr",
     "output_type": "stream",
     "text": [
      "<ipython-input-57-947c3902ea04>:2: SettingWithCopyWarning: \n",
      "A value is trying to be set on a copy of a slice from a DataFrame\n",
      "\n",
      "See the caveats in the documentation: https://pandas.pydata.org/pandas-docs/stable/user_guide/indexing.html#returning-a-view-versus-a-copy\n",
      "  coffee_for_analysis.sort_values(by='top_sales_rank',inplace=True)\n"
     ]
    }
   ],
   "source": [
    "coffee_for_analysis.top_sales_rank.replace('None',np.nan)\n",
    "coffee_for_analysis.sort_values(by='top_sales_rank',inplace=True)"
   ]
  },
  {
   "cell_type": "code",
   "execution_count": 58,
   "metadata": {},
   "outputs": [
    {
     "data": {
      "text/plain": [
       "1.0"
      ]
     },
     "execution_count": 58,
     "metadata": {},
     "output_type": "execute_result"
    },
    {
     "data": {
      "text/plain": [
       "1998.0"
      ]
     },
     "execution_count": 58,
     "metadata": {},
     "output_type": "execute_result"
    },
    {
     "name": "stderr",
     "output_type": "stream",
     "text": [
      "<ipython-input-58-b42176506a72>:4: SettingWithCopyWarning: \n",
      "A value is trying to be set on a copy of a slice from a DataFrame.\n",
      "Try using .loc[row_indexer,col_indexer] = value instead\n",
      "\n",
      "See the caveats in the documentation: https://pandas.pydata.org/pandas-docs/stable/user_guide/indexing.html#returning-a-view-versus-a-copy\n",
      "  coffee_corrplot['top_sales_rank_percentile']= (2000-coffee_corrplot['top_sales_rank'])/2000\n"
     ]
    }
   ],
   "source": [
    "coffee_corrplot=coffee_for_analysis[coffee_for_analysis['top_sales_rank']<=2000]\n",
    "coffee_corrplot.top_sales_rank.min()\n",
    "coffee_corrplot.top_sales_rank.max()\n",
    "coffee_corrplot['top_sales_rank_percentile']= (2000-coffee_corrplot['top_sales_rank'])/2000"
   ]
  },
  {
   "cell_type": "code",
   "execution_count": 59,
   "metadata": {},
   "outputs": [
    {
     "data": {
      "text/html": [
       "<style  type=\"text/css\" >\n",
       "    #T_1722ce64_cfa0_11ea_9ff1_8c85905cee6brow0_col0 {\n",
       "            background-color:  #b40426;\n",
       "            color:  #f1f1f1;\n",
       "        }    #T_1722ce64_cfa0_11ea_9ff1_8c85905cee6brow0_col1 {\n",
       "            background-color:  #c7d7f0;\n",
       "            color:  #000000;\n",
       "        }    #T_1722ce64_cfa0_11ea_9ff1_8c85905cee6brow0_col2 {\n",
       "            background-color:  #f7af91;\n",
       "            color:  #000000;\n",
       "        }    #T_1722ce64_cfa0_11ea_9ff1_8c85905cee6brow0_col3 {\n",
       "            background-color:  #f3c8b2;\n",
       "            color:  #000000;\n",
       "        }    #T_1722ce64_cfa0_11ea_9ff1_8c85905cee6brow0_col4 {\n",
       "            background-color:  #f7ba9f;\n",
       "            color:  #000000;\n",
       "        }    #T_1722ce64_cfa0_11ea_9ff1_8c85905cee6brow0_col5 {\n",
       "            background-color:  #e0dbd8;\n",
       "            color:  #000000;\n",
       "        }    #T_1722ce64_cfa0_11ea_9ff1_8c85905cee6brow0_col6 {\n",
       "            background-color:  #f6bfa6;\n",
       "            color:  #000000;\n",
       "        }    #T_1722ce64_cfa0_11ea_9ff1_8c85905cee6brow0_col7 {\n",
       "            background-color:  #cbd8ee;\n",
       "            color:  #000000;\n",
       "        }    #T_1722ce64_cfa0_11ea_9ff1_8c85905cee6brow0_col8 {\n",
       "            background-color:  #d1dae9;\n",
       "            color:  #000000;\n",
       "        }    #T_1722ce64_cfa0_11ea_9ff1_8c85905cee6brow0_col9 {\n",
       "            background-color:  #d2dbe8;\n",
       "            color:  #000000;\n",
       "        }    #T_1722ce64_cfa0_11ea_9ff1_8c85905cee6brow0_col10 {\n",
       "            background-color:  #d3dbe7;\n",
       "            color:  #000000;\n",
       "        }    #T_1722ce64_cfa0_11ea_9ff1_8c85905cee6brow0_col11 {\n",
       "            background-color:  #f1ccb8;\n",
       "            color:  #000000;\n",
       "        }    #T_1722ce64_cfa0_11ea_9ff1_8c85905cee6brow1_col0 {\n",
       "            background-color:  #c7d7f0;\n",
       "            color:  #000000;\n",
       "        }    #T_1722ce64_cfa0_11ea_9ff1_8c85905cee6brow1_col1 {\n",
       "            background-color:  #b40426;\n",
       "            color:  #f1f1f1;\n",
       "        }    #T_1722ce64_cfa0_11ea_9ff1_8c85905cee6brow1_col2 {\n",
       "            background-color:  #c4d5f3;\n",
       "            color:  #000000;\n",
       "        }    #T_1722ce64_cfa0_11ea_9ff1_8c85905cee6brow1_col3 {\n",
       "            background-color:  #cad8ef;\n",
       "            color:  #000000;\n",
       "        }    #T_1722ce64_cfa0_11ea_9ff1_8c85905cee6brow1_col4 {\n",
       "            background-color:  #cad8ef;\n",
       "            color:  #000000;\n",
       "        }    #T_1722ce64_cfa0_11ea_9ff1_8c85905cee6brow1_col5 {\n",
       "            background-color:  #dadce0;\n",
       "            color:  #000000;\n",
       "        }    #T_1722ce64_cfa0_11ea_9ff1_8c85905cee6brow1_col6 {\n",
       "            background-color:  #c9d7f0;\n",
       "            color:  #000000;\n",
       "        }    #T_1722ce64_cfa0_11ea_9ff1_8c85905cee6brow1_col7 {\n",
       "            background-color:  #c9d7f0;\n",
       "            color:  #000000;\n",
       "        }    #T_1722ce64_cfa0_11ea_9ff1_8c85905cee6brow1_col8 {\n",
       "            background-color:  #c6d6f1;\n",
       "            color:  #000000;\n",
       "        }    #T_1722ce64_cfa0_11ea_9ff1_8c85905cee6brow1_col9 {\n",
       "            background-color:  #cad8ef;\n",
       "            color:  #000000;\n",
       "        }    #T_1722ce64_cfa0_11ea_9ff1_8c85905cee6brow1_col10 {\n",
       "            background-color:  #c6d6f1;\n",
       "            color:  #000000;\n",
       "        }    #T_1722ce64_cfa0_11ea_9ff1_8c85905cee6brow1_col11 {\n",
       "            background-color:  #d2dbe8;\n",
       "            color:  #000000;\n",
       "        }    #T_1722ce64_cfa0_11ea_9ff1_8c85905cee6brow2_col0 {\n",
       "            background-color:  #f7af91;\n",
       "            color:  #000000;\n",
       "        }    #T_1722ce64_cfa0_11ea_9ff1_8c85905cee6brow2_col1 {\n",
       "            background-color:  #c4d5f3;\n",
       "            color:  #000000;\n",
       "        }    #T_1722ce64_cfa0_11ea_9ff1_8c85905cee6brow2_col2 {\n",
       "            background-color:  #b40426;\n",
       "            color:  #f1f1f1;\n",
       "        }    #T_1722ce64_cfa0_11ea_9ff1_8c85905cee6brow2_col3 {\n",
       "            background-color:  #f3c8b2;\n",
       "            color:  #000000;\n",
       "        }    #T_1722ce64_cfa0_11ea_9ff1_8c85905cee6brow2_col4 {\n",
       "            background-color:  #f2c9b4;\n",
       "            color:  #000000;\n",
       "        }    #T_1722ce64_cfa0_11ea_9ff1_8c85905cee6brow2_col5 {\n",
       "            background-color:  #dcdddd;\n",
       "            color:  #000000;\n",
       "        }    #T_1722ce64_cfa0_11ea_9ff1_8c85905cee6brow2_col6 {\n",
       "            background-color:  #f1ccb8;\n",
       "            color:  #000000;\n",
       "        }    #T_1722ce64_cfa0_11ea_9ff1_8c85905cee6brow2_col7 {\n",
       "            background-color:  #cad8ef;\n",
       "            color:  #000000;\n",
       "        }    #T_1722ce64_cfa0_11ea_9ff1_8c85905cee6brow2_col8 {\n",
       "            background-color:  #cdd9ec;\n",
       "            color:  #000000;\n",
       "        }    #T_1722ce64_cfa0_11ea_9ff1_8c85905cee6brow2_col9 {\n",
       "            background-color:  #cedaeb;\n",
       "            color:  #000000;\n",
       "        }    #T_1722ce64_cfa0_11ea_9ff1_8c85905cee6brow2_col10 {\n",
       "            background-color:  #d3dbe7;\n",
       "            color:  #000000;\n",
       "        }    #T_1722ce64_cfa0_11ea_9ff1_8c85905cee6brow2_col11 {\n",
       "            background-color:  #e4d9d2;\n",
       "            color:  #000000;\n",
       "        }    #T_1722ce64_cfa0_11ea_9ff1_8c85905cee6brow3_col0 {\n",
       "            background-color:  #f3c8b2;\n",
       "            color:  #000000;\n",
       "        }    #T_1722ce64_cfa0_11ea_9ff1_8c85905cee6brow3_col1 {\n",
       "            background-color:  #cad8ef;\n",
       "            color:  #000000;\n",
       "        }    #T_1722ce64_cfa0_11ea_9ff1_8c85905cee6brow3_col2 {\n",
       "            background-color:  #f3c8b2;\n",
       "            color:  #000000;\n",
       "        }    #T_1722ce64_cfa0_11ea_9ff1_8c85905cee6brow3_col3 {\n",
       "            background-color:  #b40426;\n",
       "            color:  #f1f1f1;\n",
       "        }    #T_1722ce64_cfa0_11ea_9ff1_8c85905cee6brow3_col4 {\n",
       "            background-color:  #ead4c8;\n",
       "            color:  #000000;\n",
       "        }    #T_1722ce64_cfa0_11ea_9ff1_8c85905cee6brow3_col5 {\n",
       "            background-color:  #c9d7f0;\n",
       "            color:  #000000;\n",
       "        }    #T_1722ce64_cfa0_11ea_9ff1_8c85905cee6brow3_col6 {\n",
       "            background-color:  #e8d6cc;\n",
       "            color:  #000000;\n",
       "        }    #T_1722ce64_cfa0_11ea_9ff1_8c85905cee6brow3_col7 {\n",
       "            background-color:  #d5dbe5;\n",
       "            color:  #000000;\n",
       "        }    #T_1722ce64_cfa0_11ea_9ff1_8c85905cee6brow3_col8 {\n",
       "            background-color:  #d6dce4;\n",
       "            color:  #000000;\n",
       "        }    #T_1722ce64_cfa0_11ea_9ff1_8c85905cee6brow3_col9 {\n",
       "            background-color:  #dbdcde;\n",
       "            color:  #000000;\n",
       "        }    #T_1722ce64_cfa0_11ea_9ff1_8c85905cee6brow3_col10 {\n",
       "            background-color:  #d4dbe6;\n",
       "            color:  #000000;\n",
       "        }    #T_1722ce64_cfa0_11ea_9ff1_8c85905cee6brow3_col11 {\n",
       "            background-color:  #d7dce3;\n",
       "            color:  #000000;\n",
       "        }    #T_1722ce64_cfa0_11ea_9ff1_8c85905cee6brow4_col0 {\n",
       "            background-color:  #f7ba9f;\n",
       "            color:  #000000;\n",
       "        }    #T_1722ce64_cfa0_11ea_9ff1_8c85905cee6brow4_col1 {\n",
       "            background-color:  #cad8ef;\n",
       "            color:  #000000;\n",
       "        }    #T_1722ce64_cfa0_11ea_9ff1_8c85905cee6brow4_col2 {\n",
       "            background-color:  #f2c9b4;\n",
       "            color:  #000000;\n",
       "        }    #T_1722ce64_cfa0_11ea_9ff1_8c85905cee6brow4_col3 {\n",
       "            background-color:  #ead4c8;\n",
       "            color:  #000000;\n",
       "        }    #T_1722ce64_cfa0_11ea_9ff1_8c85905cee6brow4_col4 {\n",
       "            background-color:  #b40426;\n",
       "            color:  #f1f1f1;\n",
       "        }    #T_1722ce64_cfa0_11ea_9ff1_8c85905cee6brow4_col5 {\n",
       "            background-color:  #d5dbe5;\n",
       "            color:  #000000;\n",
       "        }    #T_1722ce64_cfa0_11ea_9ff1_8c85905cee6brow4_col6 {\n",
       "            background-color:  #d24b40;\n",
       "            color:  #f1f1f1;\n",
       "        }    #T_1722ce64_cfa0_11ea_9ff1_8c85905cee6brow4_col7 {\n",
       "            background-color:  #cdd9ec;\n",
       "            color:  #000000;\n",
       "        }    #T_1722ce64_cfa0_11ea_9ff1_8c85905cee6brow4_col8 {\n",
       "            background-color:  #d1dae9;\n",
       "            color:  #000000;\n",
       "        }    #T_1722ce64_cfa0_11ea_9ff1_8c85905cee6brow4_col9 {\n",
       "            background-color:  #d1dae9;\n",
       "            color:  #000000;\n",
       "        }    #T_1722ce64_cfa0_11ea_9ff1_8c85905cee6brow4_col10 {\n",
       "            background-color:  #d3dbe7;\n",
       "            color:  #000000;\n",
       "        }    #T_1722ce64_cfa0_11ea_9ff1_8c85905cee6brow4_col11 {\n",
       "            background-color:  #dfdbd9;\n",
       "            color:  #000000;\n",
       "        }    #T_1722ce64_cfa0_11ea_9ff1_8c85905cee6brow5_col0 {\n",
       "            background-color:  #e0dbd8;\n",
       "            color:  #000000;\n",
       "        }    #T_1722ce64_cfa0_11ea_9ff1_8c85905cee6brow5_col1 {\n",
       "            background-color:  #dadce0;\n",
       "            color:  #000000;\n",
       "        }    #T_1722ce64_cfa0_11ea_9ff1_8c85905cee6brow5_col2 {\n",
       "            background-color:  #dcdddd;\n",
       "            color:  #000000;\n",
       "        }    #T_1722ce64_cfa0_11ea_9ff1_8c85905cee6brow5_col3 {\n",
       "            background-color:  #c9d7f0;\n",
       "            color:  #000000;\n",
       "        }    #T_1722ce64_cfa0_11ea_9ff1_8c85905cee6brow5_col4 {\n",
       "            background-color:  #d5dbe5;\n",
       "            color:  #000000;\n",
       "        }    #T_1722ce64_cfa0_11ea_9ff1_8c85905cee6brow5_col5 {\n",
       "            background-color:  #b40426;\n",
       "            color:  #f1f1f1;\n",
       "        }    #T_1722ce64_cfa0_11ea_9ff1_8c85905cee6brow5_col6 {\n",
       "            background-color:  #d7dce3;\n",
       "            color:  #000000;\n",
       "        }    #T_1722ce64_cfa0_11ea_9ff1_8c85905cee6brow5_col7 {\n",
       "            background-color:  #3b4cc0;\n",
       "            color:  #f1f1f1;\n",
       "        }    #T_1722ce64_cfa0_11ea_9ff1_8c85905cee6brow5_col8 {\n",
       "            background-color:  #8badfd;\n",
       "            color:  #000000;\n",
       "        }    #T_1722ce64_cfa0_11ea_9ff1_8c85905cee6brow5_col9 {\n",
       "            background-color:  #92b4fe;\n",
       "            color:  #000000;\n",
       "        }    #T_1722ce64_cfa0_11ea_9ff1_8c85905cee6brow5_col10 {\n",
       "            background-color:  #b7cff9;\n",
       "            color:  #000000;\n",
       "        }    #T_1722ce64_cfa0_11ea_9ff1_8c85905cee6brow5_col11 {\n",
       "            background-color:  #cd423b;\n",
       "            color:  #f1f1f1;\n",
       "        }    #T_1722ce64_cfa0_11ea_9ff1_8c85905cee6brow6_col0 {\n",
       "            background-color:  #f6bfa6;\n",
       "            color:  #000000;\n",
       "        }    #T_1722ce64_cfa0_11ea_9ff1_8c85905cee6brow6_col1 {\n",
       "            background-color:  #c9d7f0;\n",
       "            color:  #000000;\n",
       "        }    #T_1722ce64_cfa0_11ea_9ff1_8c85905cee6brow6_col2 {\n",
       "            background-color:  #f1ccb8;\n",
       "            color:  #000000;\n",
       "        }    #T_1722ce64_cfa0_11ea_9ff1_8c85905cee6brow6_col3 {\n",
       "            background-color:  #e8d6cc;\n",
       "            color:  #000000;\n",
       "        }    #T_1722ce64_cfa0_11ea_9ff1_8c85905cee6brow6_col4 {\n",
       "            background-color:  #d24b40;\n",
       "            color:  #f1f1f1;\n",
       "        }    #T_1722ce64_cfa0_11ea_9ff1_8c85905cee6brow6_col5 {\n",
       "            background-color:  #d7dce3;\n",
       "            color:  #000000;\n",
       "        }    #T_1722ce64_cfa0_11ea_9ff1_8c85905cee6brow6_col6 {\n",
       "            background-color:  #b40426;\n",
       "            color:  #f1f1f1;\n",
       "        }    #T_1722ce64_cfa0_11ea_9ff1_8c85905cee6brow6_col7 {\n",
       "            background-color:  #c9d7f0;\n",
       "            color:  #000000;\n",
       "        }    #T_1722ce64_cfa0_11ea_9ff1_8c85905cee6brow6_col8 {\n",
       "            background-color:  #cdd9ec;\n",
       "            color:  #000000;\n",
       "        }    #T_1722ce64_cfa0_11ea_9ff1_8c85905cee6brow6_col9 {\n",
       "            background-color:  #cdd9ec;\n",
       "            color:  #000000;\n",
       "        }    #T_1722ce64_cfa0_11ea_9ff1_8c85905cee6brow6_col10 {\n",
       "            background-color:  #cfdaea;\n",
       "            color:  #000000;\n",
       "        }    #T_1722ce64_cfa0_11ea_9ff1_8c85905cee6brow6_col11 {\n",
       "            background-color:  #d6dce4;\n",
       "            color:  #000000;\n",
       "        }    #T_1722ce64_cfa0_11ea_9ff1_8c85905cee6brow7_col0 {\n",
       "            background-color:  #cbd8ee;\n",
       "            color:  #000000;\n",
       "        }    #T_1722ce64_cfa0_11ea_9ff1_8c85905cee6brow7_col1 {\n",
       "            background-color:  #c9d7f0;\n",
       "            color:  #000000;\n",
       "        }    #T_1722ce64_cfa0_11ea_9ff1_8c85905cee6brow7_col2 {\n",
       "            background-color:  #cad8ef;\n",
       "            color:  #000000;\n",
       "        }    #T_1722ce64_cfa0_11ea_9ff1_8c85905cee6brow7_col3 {\n",
       "            background-color:  #d5dbe5;\n",
       "            color:  #000000;\n",
       "        }    #T_1722ce64_cfa0_11ea_9ff1_8c85905cee6brow7_col4 {\n",
       "            background-color:  #cdd9ec;\n",
       "            color:  #000000;\n",
       "        }    #T_1722ce64_cfa0_11ea_9ff1_8c85905cee6brow7_col5 {\n",
       "            background-color:  #3b4cc0;\n",
       "            color:  #f1f1f1;\n",
       "        }    #T_1722ce64_cfa0_11ea_9ff1_8c85905cee6brow7_col6 {\n",
       "            background-color:  #c9d7f0;\n",
       "            color:  #000000;\n",
       "        }    #T_1722ce64_cfa0_11ea_9ff1_8c85905cee6brow7_col7 {\n",
       "            background-color:  #b40426;\n",
       "            color:  #f1f1f1;\n",
       "        }    #T_1722ce64_cfa0_11ea_9ff1_8c85905cee6brow7_col8 {\n",
       "            background-color:  #d5dbe5;\n",
       "            color:  #000000;\n",
       "        }    #T_1722ce64_cfa0_11ea_9ff1_8c85905cee6brow7_col9 {\n",
       "            background-color:  #d4dbe6;\n",
       "            color:  #000000;\n",
       "        }    #T_1722ce64_cfa0_11ea_9ff1_8c85905cee6brow7_col10 {\n",
       "            background-color:  #ccd9ed;\n",
       "            color:  #000000;\n",
       "        }    #T_1722ce64_cfa0_11ea_9ff1_8c85905cee6brow7_col11 {\n",
       "            background-color:  #afcafc;\n",
       "            color:  #000000;\n",
       "        }    #T_1722ce64_cfa0_11ea_9ff1_8c85905cee6brow8_col0 {\n",
       "            background-color:  #d1dae9;\n",
       "            color:  #000000;\n",
       "        }    #T_1722ce64_cfa0_11ea_9ff1_8c85905cee6brow8_col1 {\n",
       "            background-color:  #c6d6f1;\n",
       "            color:  #000000;\n",
       "        }    #T_1722ce64_cfa0_11ea_9ff1_8c85905cee6brow8_col2 {\n",
       "            background-color:  #cdd9ec;\n",
       "            color:  #000000;\n",
       "        }    #T_1722ce64_cfa0_11ea_9ff1_8c85905cee6brow8_col3 {\n",
       "            background-color:  #d6dce4;\n",
       "            color:  #000000;\n",
       "        }    #T_1722ce64_cfa0_11ea_9ff1_8c85905cee6brow8_col4 {\n",
       "            background-color:  #d1dae9;\n",
       "            color:  #000000;\n",
       "        }    #T_1722ce64_cfa0_11ea_9ff1_8c85905cee6brow8_col5 {\n",
       "            background-color:  #8badfd;\n",
       "            color:  #000000;\n",
       "        }    #T_1722ce64_cfa0_11ea_9ff1_8c85905cee6brow8_col6 {\n",
       "            background-color:  #cdd9ec;\n",
       "            color:  #000000;\n",
       "        }    #T_1722ce64_cfa0_11ea_9ff1_8c85905cee6brow8_col7 {\n",
       "            background-color:  #d5dbe5;\n",
       "            color:  #000000;\n",
       "        }    #T_1722ce64_cfa0_11ea_9ff1_8c85905cee6brow8_col8 {\n",
       "            background-color:  #b40426;\n",
       "            color:  #f1f1f1;\n",
       "        }    #T_1722ce64_cfa0_11ea_9ff1_8c85905cee6brow8_col9 {\n",
       "            background-color:  #cfdaea;\n",
       "            color:  #000000;\n",
       "        }    #T_1722ce64_cfa0_11ea_9ff1_8c85905cee6brow8_col10 {\n",
       "            background-color:  #cfdaea;\n",
       "            color:  #000000;\n",
       "        }    #T_1722ce64_cfa0_11ea_9ff1_8c85905cee6brow8_col11 {\n",
       "            background-color:  #bed2f6;\n",
       "            color:  #000000;\n",
       "        }    #T_1722ce64_cfa0_11ea_9ff1_8c85905cee6brow9_col0 {\n",
       "            background-color:  #d2dbe8;\n",
       "            color:  #000000;\n",
       "        }    #T_1722ce64_cfa0_11ea_9ff1_8c85905cee6brow9_col1 {\n",
       "            background-color:  #cad8ef;\n",
       "            color:  #000000;\n",
       "        }    #T_1722ce64_cfa0_11ea_9ff1_8c85905cee6brow9_col2 {\n",
       "            background-color:  #cedaeb;\n",
       "            color:  #000000;\n",
       "        }    #T_1722ce64_cfa0_11ea_9ff1_8c85905cee6brow9_col3 {\n",
       "            background-color:  #dbdcde;\n",
       "            color:  #000000;\n",
       "        }    #T_1722ce64_cfa0_11ea_9ff1_8c85905cee6brow9_col4 {\n",
       "            background-color:  #d1dae9;\n",
       "            color:  #000000;\n",
       "        }    #T_1722ce64_cfa0_11ea_9ff1_8c85905cee6brow9_col5 {\n",
       "            background-color:  #92b4fe;\n",
       "            color:  #000000;\n",
       "        }    #T_1722ce64_cfa0_11ea_9ff1_8c85905cee6brow9_col6 {\n",
       "            background-color:  #cdd9ec;\n",
       "            color:  #000000;\n",
       "        }    #T_1722ce64_cfa0_11ea_9ff1_8c85905cee6brow9_col7 {\n",
       "            background-color:  #d4dbe6;\n",
       "            color:  #000000;\n",
       "        }    #T_1722ce64_cfa0_11ea_9ff1_8c85905cee6brow9_col8 {\n",
       "            background-color:  #cfdaea;\n",
       "            color:  #000000;\n",
       "        }    #T_1722ce64_cfa0_11ea_9ff1_8c85905cee6brow9_col9 {\n",
       "            background-color:  #b40426;\n",
       "            color:  #f1f1f1;\n",
       "        }    #T_1722ce64_cfa0_11ea_9ff1_8c85905cee6brow9_col10 {\n",
       "            background-color:  #d5dbe5;\n",
       "            color:  #000000;\n",
       "        }    #T_1722ce64_cfa0_11ea_9ff1_8c85905cee6brow9_col11 {\n",
       "            background-color:  #b2ccfb;\n",
       "            color:  #000000;\n",
       "        }    #T_1722ce64_cfa0_11ea_9ff1_8c85905cee6brow10_col0 {\n",
       "            background-color:  #d3dbe7;\n",
       "            color:  #000000;\n",
       "        }    #T_1722ce64_cfa0_11ea_9ff1_8c85905cee6brow10_col1 {\n",
       "            background-color:  #c6d6f1;\n",
       "            color:  #000000;\n",
       "        }    #T_1722ce64_cfa0_11ea_9ff1_8c85905cee6brow10_col2 {\n",
       "            background-color:  #d3dbe7;\n",
       "            color:  #000000;\n",
       "        }    #T_1722ce64_cfa0_11ea_9ff1_8c85905cee6brow10_col3 {\n",
       "            background-color:  #d4dbe6;\n",
       "            color:  #000000;\n",
       "        }    #T_1722ce64_cfa0_11ea_9ff1_8c85905cee6brow10_col4 {\n",
       "            background-color:  #d3dbe7;\n",
       "            color:  #000000;\n",
       "        }    #T_1722ce64_cfa0_11ea_9ff1_8c85905cee6brow10_col5 {\n",
       "            background-color:  #b7cff9;\n",
       "            color:  #000000;\n",
       "        }    #T_1722ce64_cfa0_11ea_9ff1_8c85905cee6brow10_col6 {\n",
       "            background-color:  #cfdaea;\n",
       "            color:  #000000;\n",
       "        }    #T_1722ce64_cfa0_11ea_9ff1_8c85905cee6brow10_col7 {\n",
       "            background-color:  #ccd9ed;\n",
       "            color:  #000000;\n",
       "        }    #T_1722ce64_cfa0_11ea_9ff1_8c85905cee6brow10_col8 {\n",
       "            background-color:  #cfdaea;\n",
       "            color:  #000000;\n",
       "        }    #T_1722ce64_cfa0_11ea_9ff1_8c85905cee6brow10_col9 {\n",
       "            background-color:  #d5dbe5;\n",
       "            color:  #000000;\n",
       "        }    #T_1722ce64_cfa0_11ea_9ff1_8c85905cee6brow10_col10 {\n",
       "            background-color:  #b40426;\n",
       "            color:  #f1f1f1;\n",
       "        }    #T_1722ce64_cfa0_11ea_9ff1_8c85905cee6brow10_col11 {\n",
       "            background-color:  #b2ccfb;\n",
       "            color:  #000000;\n",
       "        }    #T_1722ce64_cfa0_11ea_9ff1_8c85905cee6brow11_col0 {\n",
       "            background-color:  #f1ccb8;\n",
       "            color:  #000000;\n",
       "        }    #T_1722ce64_cfa0_11ea_9ff1_8c85905cee6brow11_col1 {\n",
       "            background-color:  #d2dbe8;\n",
       "            color:  #000000;\n",
       "        }    #T_1722ce64_cfa0_11ea_9ff1_8c85905cee6brow11_col2 {\n",
       "            background-color:  #e4d9d2;\n",
       "            color:  #000000;\n",
       "        }    #T_1722ce64_cfa0_11ea_9ff1_8c85905cee6brow11_col3 {\n",
       "            background-color:  #d7dce3;\n",
       "            color:  #000000;\n",
       "        }    #T_1722ce64_cfa0_11ea_9ff1_8c85905cee6brow11_col4 {\n",
       "            background-color:  #dfdbd9;\n",
       "            color:  #000000;\n",
       "        }    #T_1722ce64_cfa0_11ea_9ff1_8c85905cee6brow11_col5 {\n",
       "            background-color:  #cd423b;\n",
       "            color:  #f1f1f1;\n",
       "        }    #T_1722ce64_cfa0_11ea_9ff1_8c85905cee6brow11_col6 {\n",
       "            background-color:  #d6dce4;\n",
       "            color:  #000000;\n",
       "        }    #T_1722ce64_cfa0_11ea_9ff1_8c85905cee6brow11_col7 {\n",
       "            background-color:  #afcafc;\n",
       "            color:  #000000;\n",
       "        }    #T_1722ce64_cfa0_11ea_9ff1_8c85905cee6brow11_col8 {\n",
       "            background-color:  #bed2f6;\n",
       "            color:  #000000;\n",
       "        }    #T_1722ce64_cfa0_11ea_9ff1_8c85905cee6brow11_col9 {\n",
       "            background-color:  #b2ccfb;\n",
       "            color:  #000000;\n",
       "        }    #T_1722ce64_cfa0_11ea_9ff1_8c85905cee6brow11_col10 {\n",
       "            background-color:  #b2ccfb;\n",
       "            color:  #000000;\n",
       "        }    #T_1722ce64_cfa0_11ea_9ff1_8c85905cee6brow11_col11 {\n",
       "            background-color:  #b40426;\n",
       "            color:  #f1f1f1;\n",
       "        }</style><table id=\"T_1722ce64_cfa0_11ea_9ff1_8c85905cee6b\" ><thead>    <tr>        <th class=\"blank level0\" ></th>        <th class=\"col_heading level0 col0\" >top_sales_rank_percentile</th>        <th class=\"col_heading level0 col1\" >price_in_US_dollars</th>        <th class=\"col_heading level0 col2\" >amazon_choice</th>        <th class=\"col_heading level0 col3\" >subscribe_flag</th>        <th class=\"col_heading level0 col4\" >answered_questions</th>        <th class=\"col_heading level0 col5\" >rating_avg</th>        <th class=\"col_heading level0 col6\" >rating_nums</th>        <th class=\"col_heading level0 col7\" >rating_1_star</th>        <th class=\"col_heading level0 col8\" >rating_2_star</th>        <th class=\"col_heading level0 col9\" >rating_3_star</th>        <th class=\"col_heading level0 col10\" >rating_4_star</th>        <th class=\"col_heading level0 col11\" >rating_5_star</th>    </tr></thead><tbody>\n",
       "                <tr>\n",
       "                        <th id=\"T_1722ce64_cfa0_11ea_9ff1_8c85905cee6blevel0_row0\" class=\"row_heading level0 row0\" >top_sales_rank_percentile</th>\n",
       "                        <td id=\"T_1722ce64_cfa0_11ea_9ff1_8c85905cee6brow0_col0\" class=\"data row0 col0\" >1.00</td>\n",
       "                        <td id=\"T_1722ce64_cfa0_11ea_9ff1_8c85905cee6brow0_col1\" class=\"data row0 col1\" >-0.05</td>\n",
       "                        <td id=\"T_1722ce64_cfa0_11ea_9ff1_8c85905cee6brow0_col2\" class=\"data row0 col2\" >0.44</td>\n",
       "                        <td id=\"T_1722ce64_cfa0_11ea_9ff1_8c85905cee6brow0_col3\" class=\"data row0 col3\" >0.29</td>\n",
       "                        <td id=\"T_1722ce64_cfa0_11ea_9ff1_8c85905cee6brow0_col4\" class=\"data row0 col4\" >0.38</td>\n",
       "                        <td id=\"T_1722ce64_cfa0_11ea_9ff1_8c85905cee6brow0_col5\" class=\"data row0 col5\" >0.11</td>\n",
       "                        <td id=\"T_1722ce64_cfa0_11ea_9ff1_8c85905cee6brow0_col6\" class=\"data row0 col6\" >0.35</td>\n",
       "                        <td id=\"T_1722ce64_cfa0_11ea_9ff1_8c85905cee6brow0_col7\" class=\"data row0 col7\" >-0.03</td>\n",
       "                        <td id=\"T_1722ce64_cfa0_11ea_9ff1_8c85905cee6brow0_col8\" class=\"data row0 col8\" >0.01</td>\n",
       "                        <td id=\"T_1722ce64_cfa0_11ea_9ff1_8c85905cee6brow0_col9\" class=\"data row0 col9\" >0.01</td>\n",
       "                        <td id=\"T_1722ce64_cfa0_11ea_9ff1_8c85905cee6brow0_col10\" class=\"data row0 col10\" >0.02</td>\n",
       "                        <td id=\"T_1722ce64_cfa0_11ea_9ff1_8c85905cee6brow0_col11\" class=\"data row0 col11\" >0.26</td>\n",
       "            </tr>\n",
       "            <tr>\n",
       "                        <th id=\"T_1722ce64_cfa0_11ea_9ff1_8c85905cee6blevel0_row1\" class=\"row_heading level0 row1\" >price_in_US_dollars</th>\n",
       "                        <td id=\"T_1722ce64_cfa0_11ea_9ff1_8c85905cee6brow1_col0\" class=\"data row1 col0\" >-0.05</td>\n",
       "                        <td id=\"T_1722ce64_cfa0_11ea_9ff1_8c85905cee6brow1_col1\" class=\"data row1 col1\" >1.00</td>\n",
       "                        <td id=\"T_1722ce64_cfa0_11ea_9ff1_8c85905cee6brow1_col2\" class=\"data row1 col2\" >-0.07</td>\n",
       "                        <td id=\"T_1722ce64_cfa0_11ea_9ff1_8c85905cee6brow1_col3\" class=\"data row1 col3\" >-0.04</td>\n",
       "                        <td id=\"T_1722ce64_cfa0_11ea_9ff1_8c85905cee6brow1_col4\" class=\"data row1 col4\" >-0.04</td>\n",
       "                        <td id=\"T_1722ce64_cfa0_11ea_9ff1_8c85905cee6brow1_col5\" class=\"data row1 col5\" >0.07</td>\n",
       "                        <td id=\"T_1722ce64_cfa0_11ea_9ff1_8c85905cee6brow1_col6\" class=\"data row1 col6\" >-0.05</td>\n",
       "                        <td id=\"T_1722ce64_cfa0_11ea_9ff1_8c85905cee6brow1_col7\" class=\"data row1 col7\" >-0.04</td>\n",
       "                        <td id=\"T_1722ce64_cfa0_11ea_9ff1_8c85905cee6brow1_col8\" class=\"data row1 col8\" >-0.06</td>\n",
       "                        <td id=\"T_1722ce64_cfa0_11ea_9ff1_8c85905cee6brow1_col9\" class=\"data row1 col9\" >-0.04</td>\n",
       "                        <td id=\"T_1722ce64_cfa0_11ea_9ff1_8c85905cee6brow1_col10\" class=\"data row1 col10\" >-0.06</td>\n",
       "                        <td id=\"T_1722ce64_cfa0_11ea_9ff1_8c85905cee6brow1_col11\" class=\"data row1 col11\" >0.01</td>\n",
       "            </tr>\n",
       "            <tr>\n",
       "                        <th id=\"T_1722ce64_cfa0_11ea_9ff1_8c85905cee6blevel0_row2\" class=\"row_heading level0 row2\" >amazon_choice</th>\n",
       "                        <td id=\"T_1722ce64_cfa0_11ea_9ff1_8c85905cee6brow2_col0\" class=\"data row2 col0\" >0.44</td>\n",
       "                        <td id=\"T_1722ce64_cfa0_11ea_9ff1_8c85905cee6brow2_col1\" class=\"data row2 col1\" >-0.07</td>\n",
       "                        <td id=\"T_1722ce64_cfa0_11ea_9ff1_8c85905cee6brow2_col2\" class=\"data row2 col2\" >1.00</td>\n",
       "                        <td id=\"T_1722ce64_cfa0_11ea_9ff1_8c85905cee6brow2_col3\" class=\"data row2 col3\" >0.29</td>\n",
       "                        <td id=\"T_1722ce64_cfa0_11ea_9ff1_8c85905cee6brow2_col4\" class=\"data row2 col4\" >0.28</td>\n",
       "                        <td id=\"T_1722ce64_cfa0_11ea_9ff1_8c85905cee6brow2_col5\" class=\"data row2 col5\" >0.08</td>\n",
       "                        <td id=\"T_1722ce64_cfa0_11ea_9ff1_8c85905cee6brow2_col6\" class=\"data row2 col6\" >0.26</td>\n",
       "                        <td id=\"T_1722ce64_cfa0_11ea_9ff1_8c85905cee6brow2_col7\" class=\"data row2 col7\" >-0.04</td>\n",
       "                        <td id=\"T_1722ce64_cfa0_11ea_9ff1_8c85905cee6brow2_col8\" class=\"data row2 col8\" >-0.02</td>\n",
       "                        <td id=\"T_1722ce64_cfa0_11ea_9ff1_8c85905cee6brow2_col9\" class=\"data row2 col9\" >-0.01</td>\n",
       "                        <td id=\"T_1722ce64_cfa0_11ea_9ff1_8c85905cee6brow2_col10\" class=\"data row2 col10\" >0.02</td>\n",
       "                        <td id=\"T_1722ce64_cfa0_11ea_9ff1_8c85905cee6brow2_col11\" class=\"data row2 col11\" >0.14</td>\n",
       "            </tr>\n",
       "            <tr>\n",
       "                        <th id=\"T_1722ce64_cfa0_11ea_9ff1_8c85905cee6blevel0_row3\" class=\"row_heading level0 row3\" >subscribe_flag</th>\n",
       "                        <td id=\"T_1722ce64_cfa0_11ea_9ff1_8c85905cee6brow3_col0\" class=\"data row3 col0\" >0.29</td>\n",
       "                        <td id=\"T_1722ce64_cfa0_11ea_9ff1_8c85905cee6brow3_col1\" class=\"data row3 col1\" >-0.04</td>\n",
       "                        <td id=\"T_1722ce64_cfa0_11ea_9ff1_8c85905cee6brow3_col2\" class=\"data row3 col2\" >0.29</td>\n",
       "                        <td id=\"T_1722ce64_cfa0_11ea_9ff1_8c85905cee6brow3_col3\" class=\"data row3 col3\" >1.00</td>\n",
       "                        <td id=\"T_1722ce64_cfa0_11ea_9ff1_8c85905cee6brow3_col4\" class=\"data row3 col4\" >0.19</td>\n",
       "                        <td id=\"T_1722ce64_cfa0_11ea_9ff1_8c85905cee6brow3_col5\" class=\"data row3 col5\" >-0.04</td>\n",
       "                        <td id=\"T_1722ce64_cfa0_11ea_9ff1_8c85905cee6brow3_col6\" class=\"data row3 col6\" >0.17</td>\n",
       "                        <td id=\"T_1722ce64_cfa0_11ea_9ff1_8c85905cee6brow3_col7\" class=\"data row3 col7\" >0.03</td>\n",
       "                        <td id=\"T_1722ce64_cfa0_11ea_9ff1_8c85905cee6brow3_col8\" class=\"data row3 col8\" >0.04</td>\n",
       "                        <td id=\"T_1722ce64_cfa0_11ea_9ff1_8c85905cee6brow3_col9\" class=\"data row3 col9\" >0.08</td>\n",
       "                        <td id=\"T_1722ce64_cfa0_11ea_9ff1_8c85905cee6brow3_col10\" class=\"data row3 col10\" >0.02</td>\n",
       "                        <td id=\"T_1722ce64_cfa0_11ea_9ff1_8c85905cee6brow3_col11\" class=\"data row3 col11\" >0.05</td>\n",
       "            </tr>\n",
       "            <tr>\n",
       "                        <th id=\"T_1722ce64_cfa0_11ea_9ff1_8c85905cee6blevel0_row4\" class=\"row_heading level0 row4\" >answered_questions</th>\n",
       "                        <td id=\"T_1722ce64_cfa0_11ea_9ff1_8c85905cee6brow4_col0\" class=\"data row4 col0\" >0.38</td>\n",
       "                        <td id=\"T_1722ce64_cfa0_11ea_9ff1_8c85905cee6brow4_col1\" class=\"data row4 col1\" >-0.04</td>\n",
       "                        <td id=\"T_1722ce64_cfa0_11ea_9ff1_8c85905cee6brow4_col2\" class=\"data row4 col2\" >0.28</td>\n",
       "                        <td id=\"T_1722ce64_cfa0_11ea_9ff1_8c85905cee6brow4_col3\" class=\"data row4 col3\" >0.19</td>\n",
       "                        <td id=\"T_1722ce64_cfa0_11ea_9ff1_8c85905cee6brow4_col4\" class=\"data row4 col4\" >1.00</td>\n",
       "                        <td id=\"T_1722ce64_cfa0_11ea_9ff1_8c85905cee6brow4_col5\" class=\"data row4 col5\" >0.04</td>\n",
       "                        <td id=\"T_1722ce64_cfa0_11ea_9ff1_8c85905cee6brow4_col6\" class=\"data row4 col6\" >0.84</td>\n",
       "                        <td id=\"T_1722ce64_cfa0_11ea_9ff1_8c85905cee6brow4_col7\" class=\"data row4 col7\" >-0.01</td>\n",
       "                        <td id=\"T_1722ce64_cfa0_11ea_9ff1_8c85905cee6brow4_col8\" class=\"data row4 col8\" >0.01</td>\n",
       "                        <td id=\"T_1722ce64_cfa0_11ea_9ff1_8c85905cee6brow4_col9\" class=\"data row4 col9\" >0.01</td>\n",
       "                        <td id=\"T_1722ce64_cfa0_11ea_9ff1_8c85905cee6brow4_col10\" class=\"data row4 col10\" >0.02</td>\n",
       "                        <td id=\"T_1722ce64_cfa0_11ea_9ff1_8c85905cee6brow4_col11\" class=\"data row4 col11\" >0.11</td>\n",
       "            </tr>\n",
       "            <tr>\n",
       "                        <th id=\"T_1722ce64_cfa0_11ea_9ff1_8c85905cee6blevel0_row5\" class=\"row_heading level0 row5\" >rating_avg</th>\n",
       "                        <td id=\"T_1722ce64_cfa0_11ea_9ff1_8c85905cee6brow5_col0\" class=\"data row5 col0\" >0.11</td>\n",
       "                        <td id=\"T_1722ce64_cfa0_11ea_9ff1_8c85905cee6brow5_col1\" class=\"data row5 col1\" >0.07</td>\n",
       "                        <td id=\"T_1722ce64_cfa0_11ea_9ff1_8c85905cee6brow5_col2\" class=\"data row5 col2\" >0.08</td>\n",
       "                        <td id=\"T_1722ce64_cfa0_11ea_9ff1_8c85905cee6brow5_col3\" class=\"data row5 col3\" >-0.04</td>\n",
       "                        <td id=\"T_1722ce64_cfa0_11ea_9ff1_8c85905cee6brow5_col4\" class=\"data row5 col4\" >0.04</td>\n",
       "                        <td id=\"T_1722ce64_cfa0_11ea_9ff1_8c85905cee6brow5_col5\" class=\"data row5 col5\" >1.00</td>\n",
       "                        <td id=\"T_1722ce64_cfa0_11ea_9ff1_8c85905cee6brow5_col6\" class=\"data row5 col6\" >0.05</td>\n",
       "                        <td id=\"T_1722ce64_cfa0_11ea_9ff1_8c85905cee6brow5_col7\" class=\"data row5 col7\" >-0.82</td>\n",
       "                        <td id=\"T_1722ce64_cfa0_11ea_9ff1_8c85905cee6brow5_col8\" class=\"data row5 col8\" >-0.38</td>\n",
       "                        <td id=\"T_1722ce64_cfa0_11ea_9ff1_8c85905cee6brow5_col9\" class=\"data row5 col9\" >-0.34</td>\n",
       "                        <td id=\"T_1722ce64_cfa0_11ea_9ff1_8c85905cee6brow5_col10\" class=\"data row5 col10\" >-0.14</td>\n",
       "                        <td id=\"T_1722ce64_cfa0_11ea_9ff1_8c85905cee6brow5_col11\" class=\"data row5 col11\" >0.87</td>\n",
       "            </tr>\n",
       "            <tr>\n",
       "                        <th id=\"T_1722ce64_cfa0_11ea_9ff1_8c85905cee6blevel0_row6\" class=\"row_heading level0 row6\" >rating_nums</th>\n",
       "                        <td id=\"T_1722ce64_cfa0_11ea_9ff1_8c85905cee6brow6_col0\" class=\"data row6 col0\" >0.35</td>\n",
       "                        <td id=\"T_1722ce64_cfa0_11ea_9ff1_8c85905cee6brow6_col1\" class=\"data row6 col1\" >-0.05</td>\n",
       "                        <td id=\"T_1722ce64_cfa0_11ea_9ff1_8c85905cee6brow6_col2\" class=\"data row6 col2\" >0.26</td>\n",
       "                        <td id=\"T_1722ce64_cfa0_11ea_9ff1_8c85905cee6brow6_col3\" class=\"data row6 col3\" >0.17</td>\n",
       "                        <td id=\"T_1722ce64_cfa0_11ea_9ff1_8c85905cee6brow6_col4\" class=\"data row6 col4\" >0.84</td>\n",
       "                        <td id=\"T_1722ce64_cfa0_11ea_9ff1_8c85905cee6brow6_col5\" class=\"data row6 col5\" >0.05</td>\n",
       "                        <td id=\"T_1722ce64_cfa0_11ea_9ff1_8c85905cee6brow6_col6\" class=\"data row6 col6\" >1.00</td>\n",
       "                        <td id=\"T_1722ce64_cfa0_11ea_9ff1_8c85905cee6brow6_col7\" class=\"data row6 col7\" >-0.04</td>\n",
       "                        <td id=\"T_1722ce64_cfa0_11ea_9ff1_8c85905cee6brow6_col8\" class=\"data row6 col8\" >-0.01</td>\n",
       "                        <td id=\"T_1722ce64_cfa0_11ea_9ff1_8c85905cee6brow6_col9\" class=\"data row6 col9\" >-0.02</td>\n",
       "                        <td id=\"T_1722ce64_cfa0_11ea_9ff1_8c85905cee6brow6_col10\" class=\"data row6 col10\" >-0.00</td>\n",
       "                        <td id=\"T_1722ce64_cfa0_11ea_9ff1_8c85905cee6brow6_col11\" class=\"data row6 col11\" >0.04</td>\n",
       "            </tr>\n",
       "            <tr>\n",
       "                        <th id=\"T_1722ce64_cfa0_11ea_9ff1_8c85905cee6blevel0_row7\" class=\"row_heading level0 row7\" >rating_1_star</th>\n",
       "                        <td id=\"T_1722ce64_cfa0_11ea_9ff1_8c85905cee6brow7_col0\" class=\"data row7 col0\" >-0.03</td>\n",
       "                        <td id=\"T_1722ce64_cfa0_11ea_9ff1_8c85905cee6brow7_col1\" class=\"data row7 col1\" >-0.04</td>\n",
       "                        <td id=\"T_1722ce64_cfa0_11ea_9ff1_8c85905cee6brow7_col2\" class=\"data row7 col2\" >-0.04</td>\n",
       "                        <td id=\"T_1722ce64_cfa0_11ea_9ff1_8c85905cee6brow7_col3\" class=\"data row7 col3\" >0.03</td>\n",
       "                        <td id=\"T_1722ce64_cfa0_11ea_9ff1_8c85905cee6brow7_col4\" class=\"data row7 col4\" >-0.01</td>\n",
       "                        <td id=\"T_1722ce64_cfa0_11ea_9ff1_8c85905cee6brow7_col5\" class=\"data row7 col5\" >-0.82</td>\n",
       "                        <td id=\"T_1722ce64_cfa0_11ea_9ff1_8c85905cee6brow7_col6\" class=\"data row7 col6\" >-0.04</td>\n",
       "                        <td id=\"T_1722ce64_cfa0_11ea_9ff1_8c85905cee6brow7_col7\" class=\"data row7 col7\" >1.00</td>\n",
       "                        <td id=\"T_1722ce64_cfa0_11ea_9ff1_8c85905cee6brow7_col8\" class=\"data row7 col8\" >0.04</td>\n",
       "                        <td id=\"T_1722ce64_cfa0_11ea_9ff1_8c85905cee6brow7_col9\" class=\"data row7 col9\" >0.03</td>\n",
       "                        <td id=\"T_1722ce64_cfa0_11ea_9ff1_8c85905cee6brow7_col10\" class=\"data row7 col10\" >-0.03</td>\n",
       "                        <td id=\"T_1722ce64_cfa0_11ea_9ff1_8c85905cee6brow7_col11\" class=\"data row7 col11\" >-0.19</td>\n",
       "            </tr>\n",
       "            <tr>\n",
       "                        <th id=\"T_1722ce64_cfa0_11ea_9ff1_8c85905cee6blevel0_row8\" class=\"row_heading level0 row8\" >rating_2_star</th>\n",
       "                        <td id=\"T_1722ce64_cfa0_11ea_9ff1_8c85905cee6brow8_col0\" class=\"data row8 col0\" >0.01</td>\n",
       "                        <td id=\"T_1722ce64_cfa0_11ea_9ff1_8c85905cee6brow8_col1\" class=\"data row8 col1\" >-0.06</td>\n",
       "                        <td id=\"T_1722ce64_cfa0_11ea_9ff1_8c85905cee6brow8_col2\" class=\"data row8 col2\" >-0.02</td>\n",
       "                        <td id=\"T_1722ce64_cfa0_11ea_9ff1_8c85905cee6brow8_col3\" class=\"data row8 col3\" >0.04</td>\n",
       "                        <td id=\"T_1722ce64_cfa0_11ea_9ff1_8c85905cee6brow8_col4\" class=\"data row8 col4\" >0.01</td>\n",
       "                        <td id=\"T_1722ce64_cfa0_11ea_9ff1_8c85905cee6brow8_col5\" class=\"data row8 col5\" >-0.38</td>\n",
       "                        <td id=\"T_1722ce64_cfa0_11ea_9ff1_8c85905cee6brow8_col6\" class=\"data row8 col6\" >-0.01</td>\n",
       "                        <td id=\"T_1722ce64_cfa0_11ea_9ff1_8c85905cee6brow8_col7\" class=\"data row8 col7\" >0.04</td>\n",
       "                        <td id=\"T_1722ce64_cfa0_11ea_9ff1_8c85905cee6brow8_col8\" class=\"data row8 col8\" >1.00</td>\n",
       "                        <td id=\"T_1722ce64_cfa0_11ea_9ff1_8c85905cee6brow8_col9\" class=\"data row8 col9\" >0.00</td>\n",
       "                        <td id=\"T_1722ce64_cfa0_11ea_9ff1_8c85905cee6brow8_col10\" class=\"data row8 col10\" >-0.00</td>\n",
       "                        <td id=\"T_1722ce64_cfa0_11ea_9ff1_8c85905cee6brow8_col11\" class=\"data row8 col11\" >-0.11</td>\n",
       "            </tr>\n",
       "            <tr>\n",
       "                        <th id=\"T_1722ce64_cfa0_11ea_9ff1_8c85905cee6blevel0_row9\" class=\"row_heading level0 row9\" >rating_3_star</th>\n",
       "                        <td id=\"T_1722ce64_cfa0_11ea_9ff1_8c85905cee6brow9_col0\" class=\"data row9 col0\" >0.01</td>\n",
       "                        <td id=\"T_1722ce64_cfa0_11ea_9ff1_8c85905cee6brow9_col1\" class=\"data row9 col1\" >-0.04</td>\n",
       "                        <td id=\"T_1722ce64_cfa0_11ea_9ff1_8c85905cee6brow9_col2\" class=\"data row9 col2\" >-0.01</td>\n",
       "                        <td id=\"T_1722ce64_cfa0_11ea_9ff1_8c85905cee6brow9_col3\" class=\"data row9 col3\" >0.08</td>\n",
       "                        <td id=\"T_1722ce64_cfa0_11ea_9ff1_8c85905cee6brow9_col4\" class=\"data row9 col4\" >0.01</td>\n",
       "                        <td id=\"T_1722ce64_cfa0_11ea_9ff1_8c85905cee6brow9_col5\" class=\"data row9 col5\" >-0.34</td>\n",
       "                        <td id=\"T_1722ce64_cfa0_11ea_9ff1_8c85905cee6brow9_col6\" class=\"data row9 col6\" >-0.02</td>\n",
       "                        <td id=\"T_1722ce64_cfa0_11ea_9ff1_8c85905cee6brow9_col7\" class=\"data row9 col7\" >0.03</td>\n",
       "                        <td id=\"T_1722ce64_cfa0_11ea_9ff1_8c85905cee6brow9_col8\" class=\"data row9 col8\" >0.00</td>\n",
       "                        <td id=\"T_1722ce64_cfa0_11ea_9ff1_8c85905cee6brow9_col9\" class=\"data row9 col9\" >1.00</td>\n",
       "                        <td id=\"T_1722ce64_cfa0_11ea_9ff1_8c85905cee6brow9_col10\" class=\"data row9 col10\" >0.03</td>\n",
       "                        <td id=\"T_1722ce64_cfa0_11ea_9ff1_8c85905cee6brow9_col11\" class=\"data row9 col11\" >-0.17</td>\n",
       "            </tr>\n",
       "            <tr>\n",
       "                        <th id=\"T_1722ce64_cfa0_11ea_9ff1_8c85905cee6blevel0_row10\" class=\"row_heading level0 row10\" >rating_4_star</th>\n",
       "                        <td id=\"T_1722ce64_cfa0_11ea_9ff1_8c85905cee6brow10_col0\" class=\"data row10 col0\" >0.02</td>\n",
       "                        <td id=\"T_1722ce64_cfa0_11ea_9ff1_8c85905cee6brow10_col1\" class=\"data row10 col1\" >-0.06</td>\n",
       "                        <td id=\"T_1722ce64_cfa0_11ea_9ff1_8c85905cee6brow10_col2\" class=\"data row10 col2\" >0.02</td>\n",
       "                        <td id=\"T_1722ce64_cfa0_11ea_9ff1_8c85905cee6brow10_col3\" class=\"data row10 col3\" >0.02</td>\n",
       "                        <td id=\"T_1722ce64_cfa0_11ea_9ff1_8c85905cee6brow10_col4\" class=\"data row10 col4\" >0.02</td>\n",
       "                        <td id=\"T_1722ce64_cfa0_11ea_9ff1_8c85905cee6brow10_col5\" class=\"data row10 col5\" >-0.14</td>\n",
       "                        <td id=\"T_1722ce64_cfa0_11ea_9ff1_8c85905cee6brow10_col6\" class=\"data row10 col6\" >-0.00</td>\n",
       "                        <td id=\"T_1722ce64_cfa0_11ea_9ff1_8c85905cee6brow10_col7\" class=\"data row10 col7\" >-0.03</td>\n",
       "                        <td id=\"T_1722ce64_cfa0_11ea_9ff1_8c85905cee6brow10_col8\" class=\"data row10 col8\" >-0.00</td>\n",
       "                        <td id=\"T_1722ce64_cfa0_11ea_9ff1_8c85905cee6brow10_col9\" class=\"data row10 col9\" >0.03</td>\n",
       "                        <td id=\"T_1722ce64_cfa0_11ea_9ff1_8c85905cee6brow10_col10\" class=\"data row10 col10\" >1.00</td>\n",
       "                        <td id=\"T_1722ce64_cfa0_11ea_9ff1_8c85905cee6brow10_col11\" class=\"data row10 col11\" >-0.18</td>\n",
       "            </tr>\n",
       "            <tr>\n",
       "                        <th id=\"T_1722ce64_cfa0_11ea_9ff1_8c85905cee6blevel0_row11\" class=\"row_heading level0 row11\" >rating_5_star</th>\n",
       "                        <td id=\"T_1722ce64_cfa0_11ea_9ff1_8c85905cee6brow11_col0\" class=\"data row11 col0\" >0.26</td>\n",
       "                        <td id=\"T_1722ce64_cfa0_11ea_9ff1_8c85905cee6brow11_col1\" class=\"data row11 col1\" >0.01</td>\n",
       "                        <td id=\"T_1722ce64_cfa0_11ea_9ff1_8c85905cee6brow11_col2\" class=\"data row11 col2\" >0.14</td>\n",
       "                        <td id=\"T_1722ce64_cfa0_11ea_9ff1_8c85905cee6brow11_col3\" class=\"data row11 col3\" >0.05</td>\n",
       "                        <td id=\"T_1722ce64_cfa0_11ea_9ff1_8c85905cee6brow11_col4\" class=\"data row11 col4\" >0.11</td>\n",
       "                        <td id=\"T_1722ce64_cfa0_11ea_9ff1_8c85905cee6brow11_col5\" class=\"data row11 col5\" >0.87</td>\n",
       "                        <td id=\"T_1722ce64_cfa0_11ea_9ff1_8c85905cee6brow11_col6\" class=\"data row11 col6\" >0.04</td>\n",
       "                        <td id=\"T_1722ce64_cfa0_11ea_9ff1_8c85905cee6brow11_col7\" class=\"data row11 col7\" >-0.19</td>\n",
       "                        <td id=\"T_1722ce64_cfa0_11ea_9ff1_8c85905cee6brow11_col8\" class=\"data row11 col8\" >-0.11</td>\n",
       "                        <td id=\"T_1722ce64_cfa0_11ea_9ff1_8c85905cee6brow11_col9\" class=\"data row11 col9\" >-0.17</td>\n",
       "                        <td id=\"T_1722ce64_cfa0_11ea_9ff1_8c85905cee6brow11_col10\" class=\"data row11 col10\" >-0.18</td>\n",
       "                        <td id=\"T_1722ce64_cfa0_11ea_9ff1_8c85905cee6brow11_col11\" class=\"data row11 col11\" >1.00</td>\n",
       "            </tr>\n",
       "    </tbody></table>"
      ],
      "text/plain": [
       "<pandas.io.formats.style.Styler at 0x7fd00d720eb0>"
      ]
     },
     "execution_count": 59,
     "metadata": {},
     "output_type": "execute_result"
    }
   ],
   "source": [
    "coffee_corrplot1=coffee_corrplot[['top_sales_rank_percentile','price_in_US_dollars','amazon_choice',\\\n",
    "                      'subscribe_flag','answered_questions','rating_avg',\\\n",
    "                      'rating_nums','rating_1_star','rating_2_star','rating_3_star','rating_4_star','rating_5_star']]\n",
    "corr = coffee_corrplot1.corr()\n",
    "corr.style.background_gradient(cmap='coolwarm',axis=None).set_precision(2)"
   ]
  },
  {
   "cell_type": "code",
   "execution_count": 60,
   "metadata": {},
   "outputs": [
    {
     "data": {
      "text/plain": [
       "<Figure size 720x432 with 0 Axes>"
      ]
     },
     "execution_count": 60,
     "metadata": {},
     "output_type": "execute_result"
    },
    {
     "data": {
      "text/plain": [
       "<matplotlib.axes._subplots.AxesSubplot at 0x7fd00cafe700>"
      ]
     },
     "execution_count": 60,
     "metadata": {},
     "output_type": "execute_result"
    },
    {
     "data": {
      "text/plain": [
       "Text(0.5, 1.0, 'Sales Rank Percentile Boxplot by Fulfillment Methods')"
      ]
     },
     "execution_count": 60,
     "metadata": {},
     "output_type": "execute_result"
    },
    {
     "data": {
      "text/plain": [
       "Text(0, 0.5, 'Top 2K Best Sellers Rank Percentile')"
      ]
     },
     "execution_count": 60,
     "metadata": {},
     "output_type": "execute_result"
    },
    {
     "data": {
      "text/plain": [
       "Text(0.5, 0, 'Fulfillment Methods')"
      ]
     },
     "execution_count": 60,
     "metadata": {},
     "output_type": "execute_result"
    },
    {
     "data": {
      "text/plain": [
       "Text(2.5, 0.03, 'Amazon Product: Sold and Ship by Amazon\\nFBA = Fulfilled by Amazon\\nThird Party = Fulfilled by Merchant')"
      ]
     },
     "execution_count": 60,
     "metadata": {},
     "output_type": "execute_result"
    },
    {
     "data": {
      "image/png": "[encoded data removed]",
      "text/plain": [
       "<Figure size 720x432 with 1 Axes>"
      ]
     },
     "metadata": {},
     "output_type": "display_data"
    }
   ],
   "source": [
    "plt.figure(figsize=(10,6))\n",
    "sns.boxplot(x='FBA_label', y='top_sales_rank_percentile', data=coffee_corrplot[coffee_corrplot['FBA_label']!=''])\n",
    "plt.title('Sales Rank Percentile Boxplot by Fulfillment Methods')\n",
    "plt.ylabel('Top 2K Best Sellers Rank Percentile')\n",
    "plt.xlabel('Fulfillment Methods')\n",
    "textstr = '\\n'.join((\n",
    "    'Amazon Product: Sold and Ship by Amazon',\n",
    "    'FBA = Fulfilled by Amazon',\n",
    "    'Third Party = Fulfilled by Merchant'))\n",
    "props = dict(boxstyle='round', facecolor='wheat', alpha=0.5)\n",
    "plt.text(2.50, 0.03, textstr, fontsize=14,\n",
    "        verticalalignment='top', bbox=props)"
   ]
  },
  {
   "cell_type": "code",
   "execution_count": 77,
   "metadata": {},
   "outputs": [
    {
     "data": {
      "text/plain": [
       "<seaborn.axisgrid.FacetGrid at 0x7fd00f85ed60>"
      ]
     },
     "execution_count": 77,
     "metadata": {},
     "output_type": "execute_result"
    },
    {
     "data": {
      "text/plain": [
       "<seaborn.axisgrid.FacetGrid at 0x7fd00da48070>"
      ]
     },
     "execution_count": 77,
     "metadata": {},
     "output_type": "execute_result"
    },
    {
     "data": {
      "text/plain": [
       "<seaborn.axisgrid.FacetGrid at 0x7fd00e07efd0>"
      ]
     },
     "execution_count": 77,
     "metadata": {},
     "output_type": "execute_result"
    },
    {
     "data": {
      "text/plain": [
       "<seaborn.axisgrid.FacetGrid at 0x7fd00fa94e50>"
      ]
     },
     "execution_count": 77,
     "metadata": {},
     "output_type": "execute_result"
    },
    {
     "data": {
      "text/plain": [
       "<seaborn.axisgrid.FacetGrid at 0x7fd00fb8b940>"
      ]
     },
     "execution_count": 77,
     "metadata": {},
     "output_type": "execute_result"
    },
    {
     "data": {
      "image/png": "[encoded data removed]",
      "text/plain": [
       "<Figure size 360x360 with 1 Axes>"
      ]
     },
     "metadata": {},
     "output_type": "display_data"
    },
    {
     "data": {
      "image/png": "[encoded data removed]",
      "text/plain": [
       "<Figure size 360x360 with 1 Axes>"
      ]
     },
     "metadata": {},
     "output_type": "display_data"
    },
    {
     "data": {
      "image/png": "[encoded data removed]",
      "text/plain": [
       "<Figure size 360x360 with 1 Axes>"
      ]
     },
     "metadata": {},
     "output_type": "display_data"
    },
    {
     "data": {
      "image/png": "[encoded data removed]",
      "text/plain": [
       "<Figure size 360x360 with 1 Axes>"
      ]
     },
     "metadata": {},
     "output_type": "display_data"
    },
    {
     "data": {
      "image/png": "[encoded data removed]",
      "text/plain": [
       "<Figure size 360x360 with 1 Axes>"
      ]
     },
     "metadata": {},
     "output_type": "display_data"
    }
   ],
   "source": [
    "sns.lmplot(x=\"rating_5_star\", y=\"top_sales_rank_percentile\", data=coffee_corrplot1)\n",
    "sns.lmplot(x=\"rating_4_star\", y=\"top_sales_rank_percentile\", data=coffee_corrplot1)\n",
    "sns.lmplot(x=\"rating_3_star\", y=\"top_sales_rank_percentile\", data=coffee_corrplot1)\n",
    "sns.lmplot(x=\"rating_2_star\", y=\"top_sales_rank_percentile\", data=coffee_corrplot1)\n",
    "sns.lmplot(x=\"rating_1_star\", y=\"top_sales_rank_percentile\", data=coffee_corrplot1)"
   ]
  },
  {
   "cell_type": "code",
   "execution_count": 62,
   "metadata": {},
   "outputs": [],
   "source": [
    "amazon_product =np.array(coffee_corrplot[coffee_corrplot.FBA_label=='Amazon product'].top_sales_rank_percentile)\n",
    "FBA =np.array(coffee_corrplot[coffee_corrplot.FBA_label=='FBA'].top_sales_rank_percentile)\n",
    "Third_party =np.array(coffee_corrplot[coffee_corrplot.FBA_label=='Third Party'].top_sales_rank_percentile)"
   ]
  },
  {
   "cell_type": "code",
   "execution_count": 63,
   "metadata": {},
   "outputs": [],
   "source": [
    "from scipy import stats"
   ]
  },
  {
   "cell_type": "code",
   "execution_count": 64,
   "metadata": {},
   "outputs": [
    {
     "data": {
      "text/plain": [
       "F_onewayResult(statistic=129.9064488031734, pvalue=1.820378534403764e-52)"
      ]
     },
     "execution_count": 64,
     "metadata": {},
     "output_type": "execute_result"
    }
   ],
   "source": [
    "stats.f_oneway(amazon_product, FBA, Third_party)"
   ]
  },
  {
   "cell_type": "code",
   "execution_count": 65,
   "metadata": {},
   "outputs": [
    {
     "data": {
      "text/plain": [
       "Ttest_indResult(statistic=12.95061399846956, pvalue=3.620478591261701e-36)"
      ]
     },
     "execution_count": 65,
     "metadata": {},
     "output_type": "execute_result"
    }
   ],
   "source": [
    "stats.ttest_ind(FBA, Third_party)"
   ]
  },
  {
   "cell_type": "markdown",
   "metadata": {},
   "source": [
    "#### Unit Price"
   ]
  },
  {
   "cell_type": "code",
   "execution_count": 66,
   "metadata": {},
   "outputs": [],
   "source": [
    "coffee_unit = coffee_for_analysis[coffee_for_analysis.unit_price_unit=='ounce']"
   ]
  },
  {
   "cell_type": "code",
   "execution_count": 67,
   "metadata": {},
   "outputs": [
    {
     "data": {
      "text/plain": [
       "4369"
      ]
     },
     "execution_count": 67,
     "metadata": {},
     "output_type": "execute_result"
    },
    {
     "data": {
      "text/plain": [
       "1177"
      ]
     },
     "execution_count": 67,
     "metadata": {},
     "output_type": "execute_result"
    }
   ],
   "source": [
    "len(coffee_for_analysis)\n",
    "len(coffee_unit)"
   ]
  },
  {
   "cell_type": "code",
   "execution_count": 68,
   "metadata": {},
   "outputs": [
    {
     "data": {
      "text/plain": [
       "count    1177.000000\n",
       "mean       25.201784\n",
       "std       124.817655\n",
       "min         0.020000\n",
       "25%         0.950000\n",
       "50%         2.170000\n",
       "75%         4.710000\n",
       "max      1415.010000\n",
       "Name: unit_price_USdollars, dtype: float64"
      ]
     },
     "execution_count": 68,
     "metadata": {},
     "output_type": "execute_result"
    },
    {
     "data": {
      "text/plain": [
       "count    1042.000000\n",
       "mean     1692.435701\n",
       "std      1527.520241\n",
       "min         2.000000\n",
       "25%       512.500000\n",
       "50%      1232.000000\n",
       "75%      2519.500000\n",
       "max      7166.000000\n",
       "Name: top_sales_rank, dtype: float64"
      ]
     },
     "execution_count": 68,
     "metadata": {},
     "output_type": "execute_result"
    }
   ],
   "source": [
    "coffee_unit.unit_price_USdollars.describe()\n",
    "coffee_unit.top_sales_rank.describe()"
   ]
  },
  {
   "cell_type": "code",
   "execution_count": 69,
   "metadata": {},
   "outputs": [
    {
     "name": "stderr",
     "output_type": "stream",
     "text": [
      "<ipython-input-69-f11a9b515a4a>:1: SettingWithCopyWarning: \n",
      "A value is trying to be set on a copy of a slice from a DataFrame\n",
      "\n",
      "See the caveats in the documentation: https://pandas.pydata.org/pandas-docs/stable/user_guide/indexing.html#returning-a-view-versus-a-copy\n",
      "  coffee_unit.sort_values(by='top_sales_rank',inplace=True)\n",
      "<ipython-input-69-f11a9b515a4a>:2: SettingWithCopyWarning: \n",
      "A value is trying to be set on a copy of a slice from a DataFrame.\n",
      "Try using .loc[row_indexer,col_indexer] = value instead\n",
      "\n",
      "See the caveats in the documentation: https://pandas.pydata.org/pandas-docs/stable/user_guide/indexing.html#returning-a-view-versus-a-copy\n",
      "  coffee_unit['top_sales_rank_percentile']= np.arange(1,1178)\n",
      "<ipython-input-69-f11a9b515a4a>:3: SettingWithCopyWarning: \n",
      "A value is trying to be set on a copy of a slice from a DataFrame.\n",
      "Try using .loc[row_indexer,col_indexer] = value instead\n",
      "\n",
      "See the caveats in the documentation: https://pandas.pydata.org/pandas-docs/stable/user_guide/indexing.html#returning-a-view-versus-a-copy\n",
      "  coffee_unit['top_sales_rank_percentile']= np.where(coffee_unit['top_sales_rank_percentile']>1043,np.nan,coffee_unit['top_sales_rank_percentile'])\n"
     ]
    }
   ],
   "source": [
    "coffee_unit.sort_values(by='top_sales_rank',inplace=True)\n",
    "coffee_unit['top_sales_rank_percentile']= np.arange(1,1178)\n",
    "coffee_unit['top_sales_rank_percentile']= np.where(coffee_unit['top_sales_rank_percentile']>1043,np.nan,coffee_unit['top_sales_rank_percentile'])"
   ]
  },
  {
   "cell_type": "code",
   "execution_count": 70,
   "metadata": {},
   "outputs": [
    {
     "name": "stderr",
     "output_type": "stream",
     "text": [
      "<ipython-input-70-e3ed625e0128>:1: SettingWithCopyWarning: \n",
      "A value is trying to be set on a copy of a slice from a DataFrame.\n",
      "Try using .loc[row_indexer,col_indexer] = value instead\n",
      "\n",
      "See the caveats in the documentation: https://pandas.pydata.org/pandas-docs/stable/user_guide/indexing.html#returning-a-view-versus-a-copy\n",
      "  coffee_unit['top_sales_rank_percentile']= (1043-coffee_unit['top_sales_rank_percentile'])/1043\n"
     ]
    }
   ],
   "source": [
    "coffee_unit['top_sales_rank_percentile']= (1043-coffee_unit['top_sales_rank_percentile'])/1043"
   ]
  },
  {
   "cell_type": "code",
   "execution_count": 71,
   "metadata": {},
   "outputs": [
    {
     "data": {
      "text/plain": [
       "count    1043.000000\n",
       "mean        0.499521\n",
       "std         0.288813\n",
       "min         0.000000\n",
       "25%         0.249760\n",
       "50%         0.499521\n",
       "75%         0.749281\n",
       "max         0.999041\n",
       "Name: top_sales_rank_percentile, dtype: float64"
      ]
     },
     "execution_count": 71,
     "metadata": {},
     "output_type": "execute_result"
    }
   ],
   "source": [
    "coffee_unit.top_sales_rank_percentile.describe()"
   ]
  },
  {
   "cell_type": "code",
   "execution_count": 72,
   "metadata": {
    "scrolled": true
   },
   "outputs": [
    {
     "data": {
      "text/plain": [
       "(22, 2)"
      ]
     },
     "execution_count": 72,
     "metadata": {},
     "output_type": "execute_result"
    },
    {
     "data": {
      "text/html": [
       "<div>\n",
       "<style scoped>\n",
       "    .dataframe tbody tr th:only-of-type {\n",
       "        vertical-align: middle;\n",
       "    }\n",
       "\n",
       "    .dataframe tbody tr th {\n",
       "        vertical-align: top;\n",
       "    }\n",
       "\n",
       "    .dataframe thead th {\n",
       "        text-align: right;\n",
       "    }\n",
       "</style>\n",
       "<table border=\"1\" class=\"dataframe\">\n",
       "  <thead>\n",
       "    <tr style=\"text-align: right;\">\n",
       "      <th></th>\n",
       "      <th>unit_price_USdollars</th>\n",
       "      <th>top_sales_rank_percentile</th>\n",
       "    </tr>\n",
       "    <tr>\n",
       "      <th>ASIN</th>\n",
       "      <th></th>\n",
       "      <th></th>\n",
       "    </tr>\n",
       "  </thead>\n",
       "  <tbody>\n",
       "    <tr>\n",
       "      <th>B079BG9CCN</th>\n",
       "      <td>452.69</td>\n",
       "      <td>0.680729</td>\n",
       "    </tr>\n",
       "    <tr>\n",
       "      <th>B01DRB5QFC</th>\n",
       "      <td>481.30</td>\n",
       "      <td>0.598274</td>\n",
       "    </tr>\n",
       "    <tr>\n",
       "      <th>B07N2V28N5</th>\n",
       "      <td>678.47</td>\n",
       "      <td>0.567593</td>\n",
       "    </tr>\n",
       "    <tr>\n",
       "      <th>B07XTBJ7YQ</th>\n",
       "      <td>1415.01</td>\n",
       "      <td>0.564717</td>\n",
       "    </tr>\n",
       "    <tr>\n",
       "      <th>B07N323LLK</th>\n",
       "      <td>410.76</td>\n",
       "      <td>0.513902</td>\n",
       "    </tr>\n",
       "    <tr>\n",
       "      <th>B07L1Y9PM5</th>\n",
       "      <td>560.91</td>\n",
       "      <td>0.436242</td>\n",
       "    </tr>\n",
       "    <tr>\n",
       "      <th>B074X4C624</th>\n",
       "      <td>1167.14</td>\n",
       "      <td>0.401726</td>\n",
       "    </tr>\n",
       "    <tr>\n",
       "      <th>B013P19WQI</th>\n",
       "      <td>620.40</td>\n",
       "      <td>0.393097</td>\n",
       "    </tr>\n",
       "    <tr>\n",
       "      <th>B005F4ZUBK</th>\n",
       "      <td>898.58</td>\n",
       "      <td>0.289549</td>\n",
       "    </tr>\n",
       "    <tr>\n",
       "      <th>B01G268WGE</th>\n",
       "      <td>400.85</td>\n",
       "      <td>0.257910</td>\n",
       "    </tr>\n",
       "    <tr>\n",
       "      <th>B0137ICM6G</th>\n",
       "      <td>596.03</td>\n",
       "      <td>0.250240</td>\n",
       "    </tr>\n",
       "    <tr>\n",
       "      <th>B01CIJBAH2</th>\n",
       "      <td>495.47</td>\n",
       "      <td>0.229147</td>\n",
       "    </tr>\n",
       "    <tr>\n",
       "      <th>B013P1737I</th>\n",
       "      <td>417.59</td>\n",
       "      <td>0.228188</td>\n",
       "    </tr>\n",
       "    <tr>\n",
       "      <th>B086MHHGXR</th>\n",
       "      <td>537.96</td>\n",
       "      <td>0.175455</td>\n",
       "    </tr>\n",
       "    <tr>\n",
       "      <th>B01G259EL2</th>\n",
       "      <td>764.59</td>\n",
       "      <td>0.163950</td>\n",
       "    </tr>\n",
       "    <tr>\n",
       "      <th>B013P1AF7S</th>\n",
       "      <td>523.80</td>\n",
       "      <td>0.155321</td>\n",
       "    </tr>\n",
       "    <tr>\n",
       "      <th>B07L1XX172</th>\n",
       "      <td>1167.14</td>\n",
       "      <td>0.130393</td>\n",
       "    </tr>\n",
       "    <tr>\n",
       "      <th>B00D5DADFG</th>\n",
       "      <td>1080.17</td>\n",
       "      <td>0.122723</td>\n",
       "    </tr>\n",
       "    <tr>\n",
       "      <th>B01G26D66U</th>\n",
       "      <td>687.82</td>\n",
       "      <td>0.104506</td>\n",
       "    </tr>\n",
       "    <tr>\n",
       "      <th>B07YHLBW8W</th>\n",
       "      <td>846.74</td>\n",
       "      <td>0.044104</td>\n",
       "    </tr>\n",
       "    <tr>\n",
       "      <th>B079BDSNX3</th>\n",
       "      <td>1104.68</td>\n",
       "      <td>0.041227</td>\n",
       "    </tr>\n",
       "    <tr>\n",
       "      <th>B009DGEG48</th>\n",
       "      <td>1013.88</td>\n",
       "      <td>0.006711</td>\n",
       "    </tr>\n",
       "  </tbody>\n",
       "</table>\n",
       "</div>"
      ],
      "text/plain": [
       "            unit_price_USdollars  top_sales_rank_percentile\n",
       "ASIN                                                       \n",
       "B079BG9CCN                452.69                   0.680729\n",
       "B01DRB5QFC                481.30                   0.598274\n",
       "B07N2V28N5                678.47                   0.567593\n",
       "B07XTBJ7YQ               1415.01                   0.564717\n",
       "B07N323LLK                410.76                   0.513902\n",
       "B07L1Y9PM5                560.91                   0.436242\n",
       "B074X4C624               1167.14                   0.401726\n",
       "B013P19WQI                620.40                   0.393097\n",
       "B005F4ZUBK                898.58                   0.289549\n",
       "B01G268WGE                400.85                   0.257910\n",
       "B0137ICM6G                596.03                   0.250240\n",
       "B01CIJBAH2                495.47                   0.229147\n",
       "B013P1737I                417.59                   0.228188\n",
       "B086MHHGXR                537.96                   0.175455\n",
       "B01G259EL2                764.59                   0.163950\n",
       "B013P1AF7S                523.80                   0.155321\n",
       "B07L1XX172               1167.14                   0.130393\n",
       "B00D5DADFG               1080.17                   0.122723\n",
       "B01G26D66U                687.82                   0.104506\n",
       "B07YHLBW8W                846.74                   0.044104\n",
       "B079BDSNX3               1104.68                   0.041227\n",
       "B009DGEG48               1013.88                   0.006711"
      ]
     },
     "execution_count": 72,
     "metadata": {},
     "output_type": "execute_result"
    },
    {
     "data": {
      "text/plain": [
       "<matplotlib.axes._subplots.AxesSubplot at 0x7fd00e092970>"
      ]
     },
     "execution_count": 72,
     "metadata": {},
     "output_type": "execute_result"
    },
    {
     "data": {
      "image/png": "[encoded data removed]",
      "text/plain": [
       "<Figure size 432x288 with 1 Axes>"
      ]
     },
     "metadata": {},
     "output_type": "display_data"
    }
   ],
   "source": [
    "outliers = coffee_unit[['top_sales_rank_percentile', 'unit_price_USdollars']].dropna()\n",
    "outliers = outliers.loc[~outliers.apply(lambda x: np.abs(x - x.mean()) / x.std() < 3).all(axis=1)]\n",
    "outliers.shape\n",
    "outliers.merge(coffee_unit, how='left', left_index=True, right_index=True, suffixes=['', '_y'])[['unit_price_USdollars', 'top_sales_rank_percentile']].\\\n",
    "sort_values(by='top_sales_rank_percentile', ascending=False)\n",
    "score_df = coffee_unit[['top_sales_rank_percentile', 'unit_price_USdollars']]\n",
    "score_df.plot.scatter('unit_price_USdollars', 'top_sales_rank_percentile')"
   ]
  },
  {
   "cell_type": "code",
   "execution_count": 73,
   "metadata": {},
   "outputs": [
    {
     "data": {
      "text/plain": [
       "<seaborn.axisgrid.JointGrid at 0x7fd00e2c0b80>"
      ]
     },
     "execution_count": 73,
     "metadata": {},
     "output_type": "execute_result"
    },
    {
     "data": {
      "image/png": "[encoded data removed]",
      "text/plain": [
       "<Figure size 432x432 with 3 Axes>"
      ]
     },
     "metadata": {},
     "output_type": "display_data"
    }
   ],
   "source": [
    "coffee_unit2=coffee_unit[coffee_unit.unit_price_USdollars<20]\n",
    "sns.jointplot(coffee_unit2[\"unit_price_USdollars\"],coffee_unit2[\"top_sales_rank_percentile\"], color=\"m\",alpha=.3)"
   ]
  }
 ],
 "metadata": {
  "kernelspec": {
   "display_name": "Python 3",
   "language": "python",
   "name": "python3"
  },
  "language_info": {
   "codemirror_mode": {
    "name": "ipython",
    "version": 3
   },
   "file_extension": ".py",
   "mimetype": "text/x-python",
   "name": "python",
   "nbconvert_exporter": "python",
   "pygments_lexer": "ipython3",
   "version": "3.8.3"
  }
 },
 "nbformat": 4,
 "nbformat_minor": 4
}
